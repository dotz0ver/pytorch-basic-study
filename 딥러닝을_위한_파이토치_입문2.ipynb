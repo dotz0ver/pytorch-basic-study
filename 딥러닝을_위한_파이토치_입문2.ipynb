{
  "nbformat": 4,
  "nbformat_minor": 0,
  "metadata": {
    "colab": {
      "provenance": []
    },
    "kernelspec": {
      "name": "python3",
      "display_name": "Python 3"
    },
    "language_info": {
      "name": "python"
    }
  },
  "cells": [
    {
      "cell_type": "code",
      "source": [
        "import torch\n",
        "\n",
        "x = torch.ones(2,2,requires_grad = True) # requires_grad = True => x에 대해서 미분을 가능할 수 있도록 x에 관한 연산들을 모두 추척하게 해준다"
      ],
      "metadata": {
        "id": "wncsyZy9rD9h"
      },
      "execution_count": 2,
      "outputs": []
    },
    {
      "cell_type": "code",
      "source": [
        "y = x + 1\n",
        "print(y)"
      ],
      "metadata": {
        "colab": {
          "base_uri": "https://localhost:8080/"
        },
        "id": "OiOnbS7trFzA",
        "outputId": "3f945d17-13c8-45dc-98d5-58639b0682be"
      },
      "execution_count": 3,
      "outputs": [
        {
          "output_type": "stream",
          "name": "stdout",
          "text": [
            "tensor([[2., 2.],\n",
            "        [2., 2.]], grad_fn=<AddBackward0>)\n"
          ]
        }
      ]
    },
    {
      "cell_type": "code",
      "source": [
        "z = 2 * y ** 2\n",
        "\n",
        "res = z.mean()"
      ],
      "metadata": {
        "id": "_0j75DxWrGuN"
      },
      "execution_count": 4,
      "outputs": []
    },
    {
      "cell_type": "code",
      "source": [
        "print(res)\n",
        "\n",
        "res.backward() # 계산 하는 방법\n",
        "print(x.grad)"
      ],
      "metadata": {
        "colab": {
          "base_uri": "https://localhost:8080/"
        },
        "id": "Guo5-2EZrICy",
        "outputId": "30e1b11d-868b-4c09-8bf3-93a0b38c7788"
      },
      "execution_count": 5,
      "outputs": [
        {
          "output_type": "stream",
          "name": "stdout",
          "text": [
            "tensor(8., grad_fn=<MeanBackward0>)\n",
            "tensor([[2., 2.],\n",
            "        [2., 2.]])\n"
          ]
        }
      ]
    },
    {
      "cell_type": "code",
      "execution_count": 6,
      "metadata": {
        "id": "PVL6A3TtqIHV"
      },
      "outputs": [],
      "source": [
        "import torch.nn as nn\n",
        "import torch.nn.functional as F"
      ]
    }
  ]
}