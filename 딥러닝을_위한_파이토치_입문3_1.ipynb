{
  "nbformat": 4,
  "nbformat_minor": 0,
  "metadata": {
    "colab": {
      "provenance": []
    },
    "kernelspec": {
      "name": "python3",
      "display_name": "Python 3"
    },
    "language_info": {
      "name": "python"
    }
  },
  "cells": [
    {
      "cell_type": "code",
      "execution_count": 15,
      "metadata": {
        "id": "wTw3UuPMZsm1"
      },
      "outputs": [],
      "source": [
        "import torch\n",
        "import torchvision #  컴퓨터 비전 작업을 위한 여러 유틸리티와 사전 훈련된 모델을 제공\n",
        "import torchvision.transforms as tr # : 데이터 전처리를 위한 torchvision.transforms 모듈을 불러오기\n",
        "from torch.utils.data import DataLoader, Dataset\n",
        "import numpy as np"
      ]
    },
    {
      "cell_type": "code",
      "source": [
        "transf = tr.Compose([tr.Resize(8),tr.ToTensor()])\n",
        "\n",
        "# tr.Compose: 여러 개의 전처리 작업을 묶기 위한 메서드입니다. 리스트 안에 있는 전처리 작업들을 순차적으로 적용할 수 있도록 합니다.\n",
        "# tr.ToTensor(): 이미지를 PyTorch 텐서로 변환하는 작업입니다. PyTorch에서는 모델에 입력으로 사용하기 위해 이미지를 텐서 형식으로 변환하는 것이 일반적입니다."
      ],
      "metadata": {
        "id": "EcCMV2kfaqI2"
      },
      "execution_count": 16,
      "outputs": []
    },
    {
      "cell_type": "code",
      "source": [
        "trainset = torchvision.datasets.CIFAR10(root='./data',train=True, download=True, transform=transf)\n",
        "testset = torchvision.datasets.CIFAR10(root='./data',train=False, download=True, transform=transf)\n",
        "\n",
        "# CIFAR-10은 \"Canadian Institute for Advanced Research\"에서 제공하는 이미지 데이터셋 중 하나로, 주로 컴퓨터 비전 분야에서 딥러닝 모델을 학습하고 평가하는데 사용됩니다.\n",
        "# 이 데이터셋은 10개의 다른 클래스에 속하는 60,000장의 32x32 크기의 컬러 이미지로 구성되어 있습니다.\n",
        "# CIFAR-10의 10개의 클래스는 다음과 같습니다:\n",
        "'''\n",
        "Airplane (비행기)\n",
        "Automobile (자동차)\n",
        "Bird (새)\n",
        "Cat (고양이)\n",
        "Deer (사슴)\n",
        "Dog (개)\n",
        "Frog (개구리)\n",
        "Horse (말)\n",
        "Ship (배)\n",
        "Truck (트럭)\n",
        "'''\n",
        "\n",
        "# train=True: 학습용 데이터를 가져옵니다.\n",
        "# download=True: 데이터가 로컬에 없는 경우 다운로드합니다.\n",
        "# transform=transf: 지정한 전처리를 적용합니다."
      ],
      "metadata": {
        "colab": {
          "base_uri": "https://localhost:8080/",
          "height": 72
        },
        "id": "nFWyg5_waGSA",
        "outputId": "ddfc7587-6e4e-46a3-bc6d-daa1fd02af98"
      },
      "execution_count": 17,
      "outputs": [
        {
          "output_type": "stream",
          "name": "stdout",
          "text": [
            "Files already downloaded and verified\n",
            "Files already downloaded and verified\n"
          ]
        },
        {
          "output_type": "execute_result",
          "data": {
            "text/plain": [
              "'\\nAirplane (비행기)\\nAutomobile (자동차)\\nBird (새)\\nCat (고양이)\\nDeer (사슴)\\nDog (개)\\nFrog (개구리)\\nHorse (말)\\nShip (배)\\nTruck (트럭)\\n'"
            ],
            "application/vnd.google.colaboratory.intrinsic+json": {
              "type": "string"
            }
          },
          "metadata": {},
          "execution_count": 17
        }
      ]
    },
    {
      "cell_type": "code",
      "source": [
        "trainset[0][0].size()"
      ],
      "metadata": {
        "colab": {
          "base_uri": "https://localhost:8080/"
        },
        "id": "2_M_PYPra43H",
        "outputId": "211c0c8f-9ca5-499b-8bc5-ae04fa42459b"
      },
      "execution_count": 18,
      "outputs": [
        {
          "output_type": "execute_result",
          "data": {
            "text/plain": [
              "torch.Size([3, 8, 8])"
            ]
          },
          "metadata": {},
          "execution_count": 18
        }
      ]
    },
    {
      "cell_type": "code",
      "source": [
        "trainloader = DataLoader(trainset,batch_size = 50, shuffle = True, num_workers = 2)\n",
        "testloader = DataLoader(testset,batch_size = 50, shuffle = True, num_workers = 2)\n",
        "\n",
        "# trainset: 로드할 학습 데이터셋을 지정합니다.\n",
        "# batch_size=50: 한 번에 로드할 배치 크기를 지정합니다. 여기서는 50개의 데이터를 한 배치로 사용하겠다고 설정했습니다.\n",
        "# num_workers=2: 데이터를 로드하는 데 사용할 worker(작업자)의 수를 지정합니다. 이를 통해 데이터 로딩이 병렬로 처리되어 속도를 향상시킬 수 있습니다.\n",
        "\n",
        "# 이해를 잘 하지를 못해서 추가 설명\n",
        "\n",
        "# batch_size=50: 학습에 사용될 데이터를 한 번에 몇 개씩 모델에 입력으로 제공할지를 결정하는 파라미터입니다.\n",
        "# 여기서는 한 번에 50개의 데이터를 모델에 제공하겠다고 설정했습니다. 배치 크기는 메모리 사용과 모델 학습의 효율성에 영향을 미칩니다. 더 큰 배치 크기는 더 많은 메모리를 사용하지만, 계산 효율이 높아질 수 있습니다."
      ],
      "metadata": {
        "id": "W9i4jY_YbA1G"
      },
      "execution_count": 19,
      "outputs": []
    },
    {
      "cell_type": "code",
      "source": [
        "len(trainloader) #  1000번의 반복(iteration)을 통해 모델이 학습될 것이라는 의미입니다."
      ],
      "metadata": {
        "colab": {
          "base_uri": "https://localhost:8080/"
        },
        "id": "jyvKqz7cbWVS",
        "outputId": "a48f84c2-88cc-41aa-ec95-16cd25907641"
      },
      "execution_count": 20,
      "outputs": [
        {
          "output_type": "execute_result",
          "data": {
            "text/plain": [
              "1000"
            ]
          },
          "metadata": {},
          "execution_count": 20
        }
      ]
    },
    {
      "cell_type": "code",
      "source": [
        "# dataiter = iter(trainloader)\n",
        "# images, labels = dataiter.next()\n",
        "# 왜 실행이 안 되지...?"
      ],
      "metadata": {
        "colab": {
          "base_uri": "https://localhost:8080/",
          "height": 203
        },
        "id": "-Pjt36lJeKFJ",
        "outputId": "0d3012f7-a516-4ebb-8c79-7589c2ead6e4"
      },
      "execution_count": 21,
      "outputs": [
        {
          "output_type": "error",
          "ename": "AttributeError",
          "evalue": "'_MultiProcessingDataLoaderIter' object has no attribute 'next'",
          "traceback": [
            "\u001b[0;31m---------------------------------------------------------------------------\u001b[0m",
            "\u001b[0;31mAttributeError\u001b[0m                            Traceback (most recent call last)",
            "\u001b[0;32m<ipython-input-21-840309f5aa1d>\u001b[0m in \u001b[0;36m<cell line: 2>\u001b[0;34m()\u001b[0m\n\u001b[1;32m      1\u001b[0m \u001b[0mdataiter\u001b[0m \u001b[0;34m=\u001b[0m \u001b[0miter\u001b[0m\u001b[0;34m(\u001b[0m\u001b[0mtrainloader\u001b[0m\u001b[0;34m)\u001b[0m\u001b[0;34m\u001b[0m\u001b[0;34m\u001b[0m\u001b[0m\n\u001b[0;32m----> 2\u001b[0;31m \u001b[0mimages\u001b[0m\u001b[0;34m,\u001b[0m \u001b[0mlabels\u001b[0m \u001b[0;34m=\u001b[0m \u001b[0mdataiter\u001b[0m\u001b[0;34m.\u001b[0m\u001b[0mnext\u001b[0m\u001b[0;34m(\u001b[0m\u001b[0;34m)\u001b[0m\u001b[0;34m\u001b[0m\u001b[0;34m\u001b[0m\u001b[0m\n\u001b[0m",
            "\u001b[0;31mAttributeError\u001b[0m: '_MultiProcessingDataLoaderIter' object has no attribute 'next'"
          ]
        }
      ]
    },
    {
      "cell_type": "code",
      "source": [
        "# images.size()\n",
        "# 왜 실행이 안 되지...?"
      ],
      "metadata": {
        "id": "X1azDGKvebZz"
      },
      "execution_count": null,
      "outputs": []
    }
  ]
}