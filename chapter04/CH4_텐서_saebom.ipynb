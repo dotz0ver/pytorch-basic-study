{
  "nbformat": 4,
  "nbformat_minor": 0,
  "metadata": {
    "colab": {
      "provenance": []
    },
    "kernelspec": {
      "name": "python3",
      "display_name": "Python 3"
    },
    "language_info": {
      "name": "python"
    }
  },
  "cells": [
    {
      "cell_type": "markdown",
      "source": [
        "* Tensor는 파이토치의 기본 단위이며, GPU 연산을 가능하게 한다.\n",
        "* 또한 Numpy의 배열과 유사하여 손쉽게 다룰 수 있다."
      ],
      "metadata": {
        "id": "gdsrnxePbvl7"
      }
    },
    {
      "cell_type": "code",
      "execution_count": 1,
      "metadata": {
        "colab": {
          "base_uri": "https://localhost:8080/"
        },
        "id": "DPL96Y_2brOg",
        "outputId": "00017022-afb1-4822-ca97-8f2cf7f615ea"
      },
      "outputs": [
        {
          "output_type": "stream",
          "name": "stdout",
          "text": [
            "tensor([[4.1589e+21, 2.8295e+30, 1.8545e+25, 1.7539e+19],\n",
            "        [1.6635e+22, 2.6375e+30, 1.1210e-43, 2.9217e-41],\n",
            "        [1.6816e+20, 4.4254e+30, 1.8545e+25, 1.7539e+19],\n",
            "        [1.6635e+22, 7.3680e+28, 4.4248e+30, 1.8545e+25],\n",
            "        [1.7539e+19, 1.6635e+22, 7.1434e+22, 7.4937e+31]])\n"
          ]
        }
      ],
      "source": [
        "import torch\n",
        "import numpy as np\n",
        "\n",
        "x = torch.empty(5,4) # 5x4인 빈 텐서를 생성한다. 이때 초기화되진 않아서, 해당 시점에 할당된 메모리에 존재하던 값들이 초깃값으로 나타난다.\n",
        "print(x)"
      ]
    },
    {
      "cell_type": "code",
      "source": [
        "torch.ones(3,3)"
      ],
      "metadata": {
        "colab": {
          "base_uri": "https://localhost:8080/"
        },
        "id": "_WFAd87LdPJ_",
        "outputId": "90809f0f-46d4-4461-ae0e-a5a78d9d13d3"
      },
      "execution_count": 2,
      "outputs": [
        {
          "output_type": "execute_result",
          "data": {
            "text/plain": [
              "tensor([[1., 1., 1.],\n",
              "        [1., 1., 1.],\n",
              "        [1., 1., 1.]])"
            ]
          },
          "metadata": {},
          "execution_count": 2
        }
      ]
    },
    {
      "cell_type": "code",
      "source": [
        "torch.zeros(2)"
      ],
      "metadata": {
        "colab": {
          "base_uri": "https://localhost:8080/"
        },
        "id": "RXplqAbmdS1Y",
        "outputId": "46220256-86b7-4815-c2fe-a423adbffe48"
      },
      "execution_count": 3,
      "outputs": [
        {
          "output_type": "execute_result",
          "data": {
            "text/plain": [
              "tensor([0., 0.])"
            ]
          },
          "metadata": {},
          "execution_count": 3
        }
      ]
    },
    {
      "cell_type": "markdown",
      "source": [
        "* torch.tensor()를 통해 텐서로 변환이 가능하다.\n",
        "\n",
        "\n"
      ],
      "metadata": {
        "id": "QoqKgtG_bvn5"
      }
    },
    {
      "cell_type": "code",
      "source": [
        "I = [13, 4] # 리스트 생성\n",
        "r = np.array([4, 56, 7]) # 넘파이 배열 생성"
      ],
      "metadata": {
        "id": "qnoq1swtdS3l"
      },
      "execution_count": 7,
      "outputs": []
    },
    {
      "cell_type": "code",
      "source": [
        "torch.tensor(I)"
      ],
      "metadata": {
        "colab": {
          "base_uri": "https://localhost:8080/"
        },
        "id": "xPyYlGJlfICd",
        "outputId": "8e5b7a9d-ae97-4d11-a207-4584dc1e0564"
      },
      "execution_count": 9,
      "outputs": [
        {
          "output_type": "execute_result",
          "data": {
            "text/plain": [
              "tensor([13,  4])"
            ]
          },
          "metadata": {},
          "execution_count": 9
        }
      ]
    },
    {
      "cell_type": "code",
      "source": [
        "torch.tensor(r)"
      ],
      "metadata": {
        "colab": {
          "base_uri": "https://localhost:8080/"
        },
        "id": "URpvrnYTfIAh",
        "outputId": "243f1699-1a66-4f53-fb5b-c5d932821048"
      },
      "execution_count": 8,
      "outputs": [
        {
          "output_type": "execute_result",
          "data": {
            "text/plain": [
              "tensor([ 4, 56,  7])"
            ]
          },
          "metadata": {},
          "execution_count": 8
        }
      ]
    },
    {
      "cell_type": "markdown",
      "source": [
        "### 텐서의 크기, 타입, 연산\n",
        "\n"
      ],
      "metadata": {
        "id": "9QClRaRRfjcm"
      }
    },
    {
      "cell_type": "code",
      "source": [
        "x = torch.empty(5,4)\n",
        "\n",
        "x.size()"
      ],
      "metadata": {
        "colab": {
          "base_uri": "https://localhost:8080/"
        },
        "id": "XRmGvy_GfIEW",
        "outputId": "332adcd5-81a3-4f02-be16-4da3c07337b4"
      },
      "execution_count": 11,
      "outputs": [
        {
          "output_type": "execute_result",
          "data": {
            "text/plain": [
              "torch.Size([5, 4])"
            ]
          },
          "metadata": {},
          "execution_count": 11
        }
      ]
    },
    {
      "cell_type": "code",
      "source": [
        "x.size()[1]"
      ],
      "metadata": {
        "colab": {
          "base_uri": "https://localhost:8080/"
        },
        "id": "wiOMBM5wfIGX",
        "outputId": "f104f478-09f9-41ff-c5ad-e0d1be8f3ace"
      },
      "execution_count": 12,
      "outputs": [
        {
          "output_type": "execute_result",
          "data": {
            "text/plain": [
              "4"
            ]
          },
          "metadata": {},
          "execution_count": 12
        }
      ]
    },
    {
      "cell_type": "code",
      "source": [
        "type(x)"
      ],
      "metadata": {
        "colab": {
          "base_uri": "https://localhost:8080/"
        },
        "id": "1TpOCEEHfIIb",
        "outputId": "a2bdfc2d-940a-4bf5-e1be-12a081a57e57"
      },
      "execution_count": 13,
      "outputs": [
        {
          "output_type": "execute_result",
          "data": {
            "text/plain": [
              "torch.Tensor"
            ]
          },
          "metadata": {},
          "execution_count": 13
        }
      ]
    },
    {
      "cell_type": "code",
      "source": [
        "x = torch.rand(2,2)\n",
        "y = torch.rand(2,2)\n",
        "x + y"
      ],
      "metadata": {
        "colab": {
          "base_uri": "https://localhost:8080/"
        },
        "id": "rCZ89hz7gGWX",
        "outputId": "67e82583-03dd-4c29-84e2-923a122a9fb2"
      },
      "execution_count": 14,
      "outputs": [
        {
          "output_type": "execute_result",
          "data": {
            "text/plain": [
              "tensor([[1.0611, 0.7236],\n",
              "        [0.9495, 1.2812]])"
            ]
          },
          "metadata": {},
          "execution_count": 14
        }
      ]
    },
    {
      "cell_type": "code",
      "source": [
        "torch.add(x,y)"
      ],
      "metadata": {
        "colab": {
          "base_uri": "https://localhost:8080/"
        },
        "id": "k5E2q0b1gGYQ",
        "outputId": "491116d9-c3da-4318-ba2b-372eb71f6a5e"
      },
      "execution_count": 15,
      "outputs": [
        {
          "output_type": "execute_result",
          "data": {
            "text/plain": [
              "tensor([[1.0611, 0.7236],\n",
              "        [0.9495, 1.2812]])"
            ]
          },
          "metadata": {},
          "execution_count": 15
        }
      ]
    },
    {
      "cell_type": "code",
      "source": [
        "y.add(x)"
      ],
      "metadata": {
        "colab": {
          "base_uri": "https://localhost:8080/"
        },
        "id": "u8ABMrbcgGaI",
        "outputId": "d1e03031-b5f0-44f3-fb61-d5a089df99c7"
      },
      "execution_count": 16,
      "outputs": [
        {
          "output_type": "execute_result",
          "data": {
            "text/plain": [
              "tensor([[1.0611, 0.7236],\n",
              "        [0.9495, 1.2812]])"
            ]
          },
          "metadata": {},
          "execution_count": 16
        }
      ]
    },
    {
      "cell_type": "code",
      "source": [
        "y.add_(x)"
      ],
      "metadata": {
        "colab": {
          "base_uri": "https://localhost:8080/"
        },
        "id": "kOH454sFgGcS",
        "outputId": "28432187-f8a0-48c1-db65-0e14dec58e96"
      },
      "execution_count": 17,
      "outputs": [
        {
          "output_type": "execute_result",
          "data": {
            "text/plain": [
              "tensor([[1.0611, 0.7236],\n",
              "        [0.9495, 1.2812]])"
            ]
          },
          "metadata": {},
          "execution_count": 17
        }
      ]
    },
    {
      "cell_type": "markdown",
      "source": [
        "### 텐서의 크기 변환"
      ],
      "metadata": {
        "id": "Jof74oSdbvp6"
      }
    },
    {
      "cell_type": "code",
      "source": [
        "x = torch.rand(8,8) # 8x8 랜덤 행렬.\n",
        "print(x.size())"
      ],
      "metadata": {
        "colab": {
          "base_uri": "https://localhost:8080/"
        },
        "id": "L1TXyAFUgbUD",
        "outputId": "91bb60ad-0738-4cda-ca8a-222a0fc0588d"
      },
      "execution_count": 18,
      "outputs": [
        {
          "output_type": "stream",
          "name": "stdout",
          "text": [
            "torch.Size([8, 8])\n"
          ]
        }
      ]
    },
    {
      "cell_type": "code",
      "source": [
        "a = x.view(64) # 크기를 바꿔주는 view 8x8 -> 64.\n",
        "print(a.size())"
      ],
      "metadata": {
        "colab": {
          "base_uri": "https://localhost:8080/"
        },
        "id": "PwO75CZUgbWV",
        "outputId": "58870081-d8e7-41c5-9810-383c2bc91848"
      },
      "execution_count": 19,
      "outputs": [
        {
          "output_type": "stream",
          "name": "stdout",
          "text": [
            "torch.Size([64])\n"
          ]
        }
      ]
    },
    {
      "cell_type": "code",
      "source": [
        "b = x.view(-1,4,4) # -1은 원래 크기가 되게 하는 값 8x8 -> -1x4x4 즉, 4x4x4이다.\n",
        "print(b.size())"
      ],
      "metadata": {
        "colab": {
          "base_uri": "https://localhost:8080/"
        },
        "id": "Ld4zAfbbgbYu",
        "outputId": "ad01e08b-42bb-4ce0-d79c-a785eb6920bc"
      },
      "execution_count": 20,
      "outputs": [
        {
          "output_type": "stream",
          "name": "stdout",
          "text": [
            "torch.Size([4, 4, 4])\n"
          ]
        }
      ]
    },
    {
      "cell_type": "markdown",
      "source": [
        "### 텐서에서 넘파이 배열로 변환"
      ],
      "metadata": {
        "id": "xMJTVybFi8ND"
      }
    },
    {
      "cell_type": "code",
      "source": [
        "x = torch.rand(8,8)\n",
        "y = x.numpy() # 텐서 뒤에 .numpy()만 붙여주면 넘파이 배열로 변환된다.\n",
        "type(y)"
      ],
      "metadata": {
        "colab": {
          "base_uri": "https://localhost:8080/"
        },
        "id": "gP-wVmlii7tr",
        "outputId": "a564b180-8312-4272-b8dd-49ba911b9fb5"
      },
      "execution_count": 21,
      "outputs": [
        {
          "output_type": "execute_result",
          "data": {
            "text/plain": [
              "numpy.ndarray"
            ]
          },
          "metadata": {},
          "execution_count": 21
        }
      ]
    },
    {
      "cell_type": "markdown",
      "source": [
        "### 단일 텐서에서 값으로 변환하기\n",
        "\n"
      ],
      "metadata": {
        "id": "f7VIVnoNbvsD"
      }
    },
    {
      "cell_type": "code",
      "source": [
        "x = torch.ones(1)\n",
        "print(x.item())"
      ],
      "metadata": {
        "colab": {
          "base_uri": "https://localhost:8080/"
        },
        "id": "zBAxwaWjgbc_",
        "outputId": "5fdcae9c-412c-445e-ce10-57afd970076c"
      },
      "execution_count": 22,
      "outputs": [
        {
          "output_type": "stream",
          "name": "stdout",
          "text": [
            "1.0\n"
          ]
        }
      ]
    },
    {
      "cell_type": "markdown",
      "source": [
        "# 역전파\n",
        "* 모델 파라미터의 최적화는 미분의 성질과 연쇄법칙을 기반으로 하는 역전파를 통해 진행된다.\n",
        "* 역전파는 모델이 복잡할수록 계산 과정이 복잡해져 코드를 직접 구현하는 것이 어렵다.\n",
        "* 따라서 파이토치는 간단하게 사용할 수 있는 다양한 최적화 방법을 제공하기 때문에 우리는 파이토치를 지금 학습하고 있는 것이다."
      ],
      "metadata": {
        "id": "NScBebnAlG05"
      }
    },
    {
      "cell_type": "markdown",
      "source": [
        "### 그래디언트 텐서\n",
        "* 인공 신경망의 최적화는 손실함수의 최솟값이 나오게 하는 신경망의 최적 가중치를 찾는 과정이다.\n",
        "* 최적화를 위해 변화량을 나타내는 미분은 필수적인 요소이다.\n",
        "* 깊은 인공 신경망의 구조는 입력값이 들어와 다중의 층을 지나 출력값을 산출하는 합성 함수 형태이다.\n",
        "* 층이 깊어지거나 구조가 복잡할수록 계산이 복잡해지기 때문에 사람이 직접 계산하기는 매우 힘들다.\n",
        "* 파이토치는 앞서 언급한 일련에 계산 과정을 자동으로 해주는 자동 미분 계산 함수를 제공하고 있다."
      ],
      "metadata": {
        "id": "yeZ-P8d7nacq"
      }
    },
    {
      "cell_type": "code",
      "source": [
        "import torch\n",
        "\n",
        "# required_grad = True는 해당 텐서를 기준으로 모든 연산들을 추적하여 미분값의 모임(배열)을 계산할 수 있게 한다.\n",
        "x = torch.ones(2,2,requires_grad=True)\n",
        "y = x+1\n",
        "z = 2*y**2\n",
        "r = z.mean()\n",
        "print(\"Result: \", r)"
      ],
      "metadata": {
        "colab": {
          "base_uri": "https://localhost:8080/"
        },
        "id": "kSFdJU5sgbhJ",
        "outputId": "cd2fb88b-fa82-444b-c5b8-280de925ffe7"
      },
      "execution_count": 27,
      "outputs": [
        {
          "output_type": "stream",
          "name": "stdout",
          "text": [
            "Result:  tensor(8., grad_fn=<MeanBackward0>)\n"
          ]
        }
      ]
    },
    {
      "cell_type": "code",
      "source": [
        "# r을 기준으로 역전파를 진행하겠다는 것이다. dr/dx=x+1\n",
        "r.backward()\n",
        "# 모든 x의 성분이 1이므로 그래디언트 x.grad를 통해 나온 미분값은 모두 2이다.\n",
        "print(x.grad)"
      ],
      "metadata": {
        "colab": {
          "base_uri": "https://localhost:8080/"
        },
        "id": "d-z7x_czqlNl",
        "outputId": "2e5afa90-8768-410c-faff-64b391e87731"
      },
      "execution_count": 28,
      "outputs": [
        {
          "output_type": "stream",
          "name": "stdout",
          "text": [
            "tensor([[2., 2.],\n",
            "        [2., 2.]])\n"
          ]
        }
      ]
    },
    {
      "cell_type": "markdown",
      "source": [
        "### 자동 미분 - 선형회귀식"
      ],
      "metadata": {
        "id": "ug0O8ySdv4kC"
      }
    },
    {
      "cell_type": "code",
      "source": [
        "import torch\n",
        "from matplotlib import pyplot as plt"
      ],
      "metadata": {
        "id": "mB5OJe6PqlVf"
      },
      "execution_count": 30,
      "outputs": []
    },
    {
      "cell_type": "code",
      "source": [
        "x = torch.FloatTensor(range(5)).unsqueeze(1) # 1번째 위치의 차원을 늘려주는 역할을 한다. 최종적으로 x의 크기는 torch.Size(5,1)\n",
        "y = 2*x+torch.rand(5,1)\n",
        "# 여기서 \"5, 1\"은 텐서의 형태(shape)를 정의하는 것으로, 이 경우에는 5행 1열의 2차원 텐서를 생성한다.\n",
        "# 각 요소는 0과 1 사이의 무작위 실수(float) 값이다.\n",
        "num_features = x.shape[1]"
      ],
      "metadata": {
        "id": "u5-VUUzNwThs"
      },
      "execution_count": 33,
      "outputs": []
    },
    {
      "cell_type": "markdown",
      "source": [
        "* 우리의 목표는 xw + b가 잘 예측할 수 있는 w와 b를 찾는 것이다.\n",
        "* w와 b에 requires_grad를 True로 활성화시켜 역전파를 통해 최적값을 찾는다.\n",
        "* \"requires_grad=True\"는 PyTorch에서 해당 텐서에 대한 기울기(gradient) 계산이 필요하다는 것을 의미한다.\n",
        "* 기본적으로, PyTorch는 연산 그래프를 통해 텐서에 대한 연산을 추적하고, 이를 바탕으로 자동으로 기울기를 계산하는 기능을 제공한다.\n",
        "* 이를 \"자동 미분\"이라고 부른다."
      ],
      "metadata": {
        "id": "3nuaJpTHv4sD"
      }
    },
    {
      "cell_type": "code",
      "source": [
        "w = torch.randn(num_features, 1, requires_grad=True)\n",
        "b = torch.randn(1, requires_grad=True)"
      ],
      "metadata": {
        "id": "3uNBjfLiwTjt"
      },
      "execution_count": 36,
      "outputs": []
    },
    {
      "cell_type": "markdown",
      "source": [
        "* 가중치를 업데이트하는 최적화 방법은 매우 다양하다.\n",
        "* 그중 가장 널리 사요되는 방법이 경사하강법이다.\n",
        "* 경사하강법(Gradient descent)은 목적 함수인 손실 함수를 기준으로 그래디언트를 계산하여 변수를 최적화하는 기법이다.\n",
        "* 아래 예시에서는 가장 기본적인 최적화 방법인 확률적 경사하강법(SGD)을 사용한다."
      ],
      "metadata": {
        "id": "qNoEaTN8v4uT"
      }
    },
    {
      "cell_type": "code",
      "source": [
        "learning_rate = 1e-3\n",
        "optimizer = torch.optim.SGD([w,b], lr=learning_rate)"
      ],
      "metadata": {
        "id": "xFO7X0-6wTlu"
      },
      "execution_count": 37,
      "outputs": []
    },
    {
      "cell_type": "markdown",
      "source": [
        "* 학습률은 경사 하강법(gradient descent)에서 가중치를 업데이트하는 정도를 결정한다. 너무 크면 수렴하지 못하고, 너무 작으면 학습이 느려질 수 있다.\n",
        "* 최적화 알고리즘으로 확률적 경사 하강법(Stochastic Gradient Descent, SGD)를 선택하고, 가중치 'w'와 편향 'b'를 최적화 대상으로 설정한다. 'lr'은 learning rate를 의미한다."
      ],
      "metadata": {
        "id": "QrJR5K3RIxFd"
      }
    },
    {
      "cell_type": "code",
      "source": [
        "loss_stack = []\n",
        "for epoch in range(1001): # 학습 반복 수를 1001로 한다.\n",
        "\n",
        "  optimizer.zero_grad()\n",
        "  y_hat = torch.matmul(x,w)+b\n",
        "  loss = torch.mean((y_hat-y)**2) # 실제 값 'y'와 예측값 'y_hat'의 차이를 제곱한 후 평균을 내어 손실(loss)을 계산한다.\n",
        "  loss.backward() # 손실에 대한 기울기를 계산한다. 이는 역전파(backpropagation) 과정을 수행한다.\n",
        "  optimizer.step() # 계산된 기울기를 사용하여 모델의 가중치와 편향을 업데이트한다.\n",
        "  loss_stack.append(loss.item()) # 매 에폭마다 손실 함수 값을 저장한다.\n",
        "\n",
        "  if epoch%100==0:\n",
        "    print(f'Epoch{epoch}:{loss.item()}') # 100 에폭마다 현재 에폭 수와 그 때의 손실 값을 출력한다."
      ],
      "metadata": {
        "colab": {
          "base_uri": "https://localhost:8080/"
        },
        "id": "Ur51WXH_wTnl",
        "outputId": "b04eadec-7bc1-4b3b-88b2-5e91e31177b5"
      },
      "execution_count": 40,
      "outputs": [
        {
          "output_type": "stream",
          "name": "stdout",
          "text": [
            "Epoch0:0.3325485289096832\n",
            "Epoch100:0.3005737066268921\n",
            "Epoch200:0.2721979320049286\n",
            "Epoch300:0.247016042470932\n",
            "Epoch400:0.22466854751110077\n",
            "Epoch500:0.20483651757240295\n",
            "Epoch600:0.18723660707473755\n",
            "Epoch700:0.17161765694618225\n",
            "Epoch800:0.1577567756175995\n",
            "Epoch900:0.145456001162529\n",
            "Epoch1000:0.13453984260559082\n"
          ]
        }
      ]
    },
    {
      "cell_type": "markdown",
      "source": [
        "### PyTorch에서 기울기를 0으로 초기화하는 이유\n",
        "* 기울기를 누적하는 이유는 일반적으로 미니 배치(mini-batch) 학습을 진행할 때, 각 배치에서 계산된 기울기를 모두 더한 후에 가중치를 업데이트하는 방식을 사용하기 때문이다.\n",
        "* 이렇게 하면 모든 학습 데이터를 한 번에 처리하는 것보다 훨씬 효율적으로 학습을 진행할 수 있다.\n",
        "* 그러나, 매 에폭마다 새로운 학습을 시작할 때는 이전 에폭에서 누적된 기울기가 현재 에폭의 학습에 영향을 주지 않도록 초기화해야 한다.\n",
        "* 따라서, 매 에폭 시작 시에 optimizer.zero_grad()를 호출하여 기울기를 0으로 초기화하는 것이 필요하다."
      ],
      "metadata": {
        "id": "GllLeIStLqyQ"
      }
    },
    {
      "cell_type": "code",
      "source": [
        "plt.figure(figsize=(10,5))\n",
        "plt.subplot(121)\n",
        "plt.plot(loss_stack)\n",
        "plt.title(\"Loss\")\n",
        "plt.subplot(122)\n",
        "plt.plot(x,y,'.b')\n",
        "plt.plot(x.detach().numpy(), y_hat.detach().numpy(), 'r-')\n",
        "plt.legend(['ground truth','prediction'])\n",
        "plt.title(\"Prediction\")\n",
        "plt.show()"
      ],
      "metadata": {
        "colab": {
          "base_uri": "https://localhost:8080/",
          "height": 468
        },
        "id": "QbfxLnv2F1je",
        "outputId": "d53afe25-c516-40b4-9438-b94db7086b14"
      },
      "execution_count": 45,
      "outputs": [
        {
          "output_type": "display_data",
          "data": {
            "text/plain": [
              "<Figure size 1000x500 with 2 Axes>"
            ],
            "image/png": "[encoded data removed]"
          },
          "metadata": {}
        }
      ]
    },
    {
      "cell_type": "markdown",
      "source": [
        "### 데이터 불러오기\n",
        "* 한 번에 전체 데이터를 모델에 주어 학습하기보다 일반적으로 배치 형태의 묶음으로 데이터를 나누어 모델 학습에 이용한다.\n",
        "* 모델을 학습할 때 데이터의 특징과 사용 방법에 따라 학습 성능의 차이가 날 수 있다."
      ],
      "metadata": {
        "id": "Y4p6c422Rq8G"
      }
    },
    {
      "cell_type": "code",
      "source": [
        "import torch\n",
        "import torchvision\n",
        "import torchvision.transforms as tr\n",
        "from torchvision.transforms import ToTensor\n",
        "from torch.utils.data import DataLoader, Dataset\n",
        "import numpy as np\n",
        "import matplotlib.pyplot as plt"
      ],
      "metadata": {
        "id": "fyrMYH-xF1l2"
      },
      "execution_count": 48,
      "outputs": []
    },
    {
      "cell_type": "code",
      "source": [
        "transf = tr.Compose([tr.Resize(16), tr.ToTensor()]) # 16x16으로 이미지 크기 변환 후 텐서 타입으로 변환한다.\n",
        "trainset = torchvision.datasets.CIFAR10(root='./data', train=True, download=True,transform=transf) # CIFAR10 데이터를 불러온다. train 데이터를 불러온다.\n",
        "testset = torchvision.datasets.CIFAR10(root='./data', train=False, download=True, transform=transf) # 테스트 데이터를 불러온다. 미리 선언한 전처리를 사용한다."
      ],
      "metadata": {
        "colab": {
          "base_uri": "https://localhost:8080/"
        },
        "id": "MEhRA_MOF1oS",
        "outputId": "3da46a0e-c76b-4692-e57f-99ed2c6e0f58"
      },
      "execution_count": 52,
      "outputs": [
        {
          "output_type": "stream",
          "name": "stdout",
          "text": [
            "Files already downloaded and verified\n",
            "Files already downloaded and verified\n"
          ]
        }
      ]
    },
    {
      "cell_type": "markdown",
      "source": [
        "* 일반적으로 데이터셋은 이미지와 라벨이 동시에 들어있는 튜플(tuple) 형태다.\n",
        "* trainset[0]은 학습 데이터의 첫 번째 데이터로 이미지 한 장과 라벨 숫자 하나가 저장되어 있다.\n",
        "* trainset[0][0]은 이미지이며, trainset[0][1]은 라벨이다.\n",
        "* 현재 이미지 사이즈는 3x16x16이다. 여기서 3은 채널 수를 말하고, 16x16은 이미지의 너비와 높이를 의미한다.\n",
        "* 일반적인 컬러 사진은 RGB 이미지이기 때문에 채널이 3이고, (너비)x(높이)x(채널 수)로 크기가 표현된다.\n",
        "* 하지만 파이토치에서는 이미지 한 장이 (채널 수)x(너비)x(높이)로 표현되니 유의하도록 한다."
      ],
      "metadata": {
        "id": "Y24PGpZVXfli"
      }
    },
    {
      "cell_type": "code",
      "source": [
        "print(trainset[0][0].size())"
      ],
      "metadata": {
        "colab": {
          "base_uri": "https://localhost:8080/"
        },
        "id": "YwsOssghSaz5",
        "outputId": "52ac3d5e-ef9d-48c5-e527-123ce0fb0229"
      },
      "execution_count": 53,
      "outputs": [
        {
          "output_type": "stream",
          "name": "stdout",
          "text": [
            "torch.Size([3, 16, 16])\n"
          ]
        }
      ]
    },
    {
      "cell_type": "code",
      "source": [
        "trainset[0]"
      ],
      "metadata": {
        "colab": {
          "base_uri": "https://localhost:8080/"
        },
        "id": "LxlWEGG-Sa1y",
        "outputId": "c082ea95-fcc0-4b54-e672-5163df33a04a"
      },
      "execution_count": 54,
      "outputs": [
        {
          "output_type": "execute_result",
          "data": {
            "text/plain": [
              "(tensor([[[0.1137, 0.2039, 0.4118, 0.5176, 0.5098, 0.4588, 0.4824, 0.4863,\n",
              "           0.4824, 0.4863, 0.5098, 0.5176, 0.5490, 0.5725, 0.5490, 0.5216],\n",
              "          [0.1333, 0.3020, 0.4510, 0.4627, 0.4510, 0.4431, 0.4667, 0.4902,\n",
              "           0.4667, 0.4745, 0.5137, 0.5176, 0.5020, 0.5176, 0.4824, 0.4275],\n",
              "          [0.2824, 0.4392, 0.4980, 0.4667, 0.4627, 0.4588, 0.4353, 0.4196,\n",
              "           0.4000, 0.4000, 0.4431, 0.4824, 0.5216, 0.4667, 0.3647, 0.2549],\n",
              "          [0.4392, 0.5020, 0.5137, 0.5020, 0.5059, 0.4549, 0.3137, 0.3059,\n",
              "           0.5294, 0.3647, 0.3176, 0.4431, 0.5333, 0.4824, 0.3961, 0.3647],\n",
              "          [0.5569, 0.5412, 0.4980, 0.5059, 0.5020, 0.3725, 0.2588, 0.3608,\n",
              "           0.6392, 0.5059, 0.3765, 0.3608, 0.4667, 0.5216, 0.4941, 0.5020],\n",
              "          [0.5882, 0.5686, 0.5137, 0.4784, 0.4784, 0.4471, 0.4980, 0.5804,\n",
              "           0.6078, 0.6118, 0.6549, 0.5333, 0.4824, 0.5255, 0.5294, 0.5216],\n",
              "          [0.5765, 0.5608, 0.4706, 0.3569, 0.4275, 0.6667, 0.7373, 0.8157,\n",
              "           0.8275, 0.8118, 0.7843, 0.6706, 0.5608, 0.5176, 0.5255, 0.5294],\n",
              "          [0.5804, 0.5686, 0.4157, 0.3451, 0.5412, 0.6980, 0.7255, 0.8902,\n",
              "           0.9529, 0.9137, 0.8549, 0.8706, 0.7294, 0.5216, 0.5098, 0.5020],\n",
              "          [0.5569, 0.5529, 0.4353, 0.4588, 0.7686, 0.7333, 0.8078, 0.8784,\n",
              "           0.8667, 0.8039, 0.7412, 0.8471, 0.7647, 0.5608, 0.5373, 0.5059],\n",
              "          [0.5255, 0.4980, 0.5098, 0.6824, 0.8784, 0.7333, 0.8039, 0.6588,\n",
              "           0.6235, 0.6078, 0.7176, 0.8667, 0.7412, 0.5098, 0.4745, 0.5059],\n",
              "          [0.5255, 0.5098, 0.5529, 0.7216, 0.7608, 0.6863, 0.7098, 0.5765,\n",
              "           0.5922, 0.5647, 0.5961, 0.6784, 0.6000, 0.4549, 0.4667, 0.5451],\n",
              "          [0.5412, 0.5490, 0.5765, 0.5882, 0.6745, 0.7490, 0.7529, 0.6078,\n",
              "           0.5686, 0.5843, 0.5529, 0.4706, 0.4549, 0.4667, 0.4588, 0.6392],\n",
              "          [0.5961, 0.5529, 0.5686, 0.6118, 0.6706, 0.6824, 0.7216, 0.6471,\n",
              "           0.5608, 0.5529, 0.5216, 0.4549, 0.4824, 0.4941, 0.5804, 0.6627],\n",
              "          [0.7451, 0.6000, 0.5294, 0.5686, 0.5765, 0.5373, 0.5843, 0.5412,\n",
              "           0.5412, 0.5686, 0.5529, 0.5804, 0.5686, 0.5490, 0.7020, 0.5216],\n",
              "          [0.7882, 0.7216, 0.6431, 0.5961, 0.5490, 0.5412, 0.5608, 0.5294,\n",
              "           0.5412, 0.5843, 0.5490, 0.5137, 0.5255, 0.4275, 0.5725, 0.3020],\n",
              "          [0.7059, 0.7373, 0.7804, 0.7412, 0.6353, 0.6000, 0.5882, 0.5765,\n",
              "           0.5765, 0.5686, 0.5608, 0.4745, 0.4549, 0.3412, 0.5961, 0.4627]],\n",
              " \n",
              "         [[0.1137, 0.1451, 0.2902, 0.3765, 0.3765, 0.3373, 0.3529, 0.3451,\n",
              "           0.3490, 0.3608, 0.3843, 0.3765, 0.4039, 0.4314, 0.4235, 0.4000],\n",
              "          [0.0863, 0.1804, 0.2902, 0.3098, 0.3059, 0.3059, 0.3255, 0.3333,\n",
              "           0.3137, 0.3255, 0.3686, 0.3686, 0.3490, 0.3608, 0.3373, 0.2902],\n",
              "          [0.1843, 0.2784, 0.3137, 0.3020, 0.3098, 0.3059, 0.2941, 0.2745,\n",
              "           0.2588, 0.2667, 0.3098, 0.3294, 0.3529, 0.3059, 0.2314, 0.1529],\n",
              "          [0.2980, 0.3373, 0.3333, 0.3216, 0.3373, 0.2980, 0.1922, 0.1725,\n",
              "           0.2980, 0.2157, 0.1961, 0.2667, 0.3451, 0.3255, 0.2627, 0.2510],\n",
              "          [0.4039, 0.3804, 0.3451, 0.3490, 0.3529, 0.2353, 0.1451, 0.1961,\n",
              "           0.3294, 0.2902, 0.2235, 0.2039, 0.3059, 0.3608, 0.3451, 0.3490],\n",
              "          [0.4510, 0.4196, 0.3725, 0.3490, 0.3412, 0.2627, 0.3137, 0.3882,\n",
              "           0.3882, 0.4078, 0.4784, 0.3647, 0.3098, 0.3608, 0.3647, 0.3529],\n",
              "          [0.4510, 0.4118, 0.3333, 0.2392, 0.2667, 0.4549, 0.5608, 0.6784,\n",
              "           0.6745, 0.6471, 0.6431, 0.5294, 0.3961, 0.3647, 0.3647, 0.3608],\n",
              "          [0.4314, 0.4000, 0.2824, 0.2157, 0.3765, 0.5373, 0.5490, 0.8000,\n",
              "           0.8980, 0.8314, 0.7647, 0.8078, 0.6275, 0.3961, 0.3804, 0.3529],\n",
              "          [0.3961, 0.3765, 0.2902, 0.3255, 0.6627, 0.5804, 0.6392, 0.7922,\n",
              "           0.8196, 0.7333, 0.6784, 0.7961, 0.6824, 0.4549, 0.4353, 0.4000],\n",
              "          [0.3647, 0.3490, 0.3608, 0.5843, 0.8157, 0.5843, 0.6824, 0.5529,\n",
              "           0.5059, 0.4863, 0.6314, 0.8039, 0.6235, 0.3451, 0.3294, 0.4039],\n",
              "          [0.3569, 0.3333, 0.4000, 0.6275, 0.6706, 0.5255, 0.5490, 0.4118,\n",
              "           0.4275, 0.4157, 0.4745, 0.5686, 0.4980, 0.3843, 0.3961, 0.4667],\n",
              "          [0.3608, 0.3529, 0.4000, 0.4275, 0.5176, 0.5922, 0.6078, 0.4510,\n",
              "           0.4000, 0.4157, 0.3961, 0.3333, 0.3765, 0.4980, 0.4902, 0.5922],\n",
              "          [0.4039, 0.3569, 0.3882, 0.4353, 0.4902, 0.5216, 0.5922, 0.5059,\n",
              "           0.3961, 0.3804, 0.3529, 0.3098, 0.3922, 0.4392, 0.5020, 0.5686],\n",
              "          [0.5529, 0.4196, 0.3569, 0.3922, 0.3961, 0.3608, 0.4157, 0.3765,\n",
              "           0.3686, 0.3882, 0.3765, 0.4078, 0.4196, 0.4118, 0.5686, 0.4078],\n",
              "          [0.6157, 0.5686, 0.4941, 0.4392, 0.3843, 0.3647, 0.3804, 0.3490,\n",
              "           0.3608, 0.4000, 0.3686, 0.3490, 0.3843, 0.3137, 0.4510, 0.2039],\n",
              "          [0.5451, 0.5804, 0.6431, 0.6157, 0.4980, 0.4353, 0.4196, 0.4039,\n",
              "           0.4118, 0.4000, 0.3686, 0.3333, 0.3176, 0.2314, 0.4667, 0.3373]],\n",
              " \n",
              "         [[0.1098, 0.0941, 0.1765, 0.2314, 0.2471, 0.2196, 0.2275, 0.2196,\n",
              "           0.2196, 0.2078, 0.2275, 0.2314, 0.2588, 0.3020, 0.3020, 0.2902],\n",
              "          [0.0471, 0.0824, 0.1490, 0.1647, 0.1647, 0.1686, 0.1686, 0.1804,\n",
              "           0.1765, 0.1804, 0.2078, 0.2118, 0.1882, 0.2078, 0.1961, 0.1725],\n",
              "          [0.0941, 0.1333, 0.1529, 0.1490, 0.1608, 0.1490, 0.1373, 0.1255,\n",
              "           0.1216, 0.1529, 0.1843, 0.2353, 0.2314, 0.1647, 0.1137, 0.0784],\n",
              "          [0.1608, 0.1725, 0.1686, 0.1569, 0.1804, 0.1490, 0.0863, 0.0824,\n",
              "           0.1647, 0.1294, 0.1216, 0.2314, 0.2471, 0.1804, 0.1373, 0.1490],\n",
              "          [0.2667, 0.2353, 0.1961, 0.1961, 0.2118, 0.1216, 0.0745, 0.1059,\n",
              "           0.1882, 0.2078, 0.1529, 0.1216, 0.1725, 0.2039, 0.1882, 0.1961],\n",
              "          [0.3216, 0.2706, 0.2431, 0.2235, 0.2196, 0.0980, 0.1569, 0.2353,\n",
              "           0.2392, 0.2706, 0.3451, 0.2118, 0.1529, 0.2078, 0.2078, 0.2000],\n",
              "          [0.3137, 0.2667, 0.2157, 0.1333, 0.1333, 0.2078, 0.3216, 0.5020,\n",
              "           0.4706, 0.4353, 0.4196, 0.3608, 0.2510, 0.2353, 0.2196, 0.2078],\n",
              "          [0.2745, 0.2353, 0.1608, 0.1294, 0.2549, 0.3922, 0.3725, 0.6745,\n",
              "           0.7529, 0.6549, 0.5922, 0.6824, 0.4745, 0.2353, 0.2157, 0.2000],\n",
              "          [0.2392, 0.2157, 0.1725, 0.2157, 0.5333, 0.4431, 0.4784, 0.6902,\n",
              "           0.7373, 0.6235, 0.5255, 0.6471, 0.4824, 0.1922, 0.1569, 0.1529],\n",
              "          [0.2235, 0.2000, 0.2157, 0.4824, 0.7373, 0.4353, 0.5333, 0.4235,\n",
              "           0.3529, 0.3137, 0.4549, 0.6784, 0.4510, 0.0980, 0.0863, 0.1451],\n",
              "          [0.2000, 0.1765, 0.2392, 0.5098, 0.5843, 0.3725, 0.3765, 0.2471,\n",
              "           0.2314, 0.2196, 0.3098, 0.4392, 0.3333, 0.1373, 0.1333, 0.2000],\n",
              "          [0.2039, 0.1843, 0.2392, 0.2706, 0.3843, 0.4510, 0.4549, 0.2863,\n",
              "           0.2157, 0.2314, 0.2196, 0.1843, 0.1569, 0.1059, 0.0824, 0.2667],\n",
              "          [0.1961, 0.1765, 0.2196, 0.2745, 0.3451, 0.3843, 0.4549, 0.3647,\n",
              "           0.2353, 0.2039, 0.1765, 0.1647, 0.1804, 0.1490, 0.2078, 0.3098],\n",
              "          [0.1922, 0.1176, 0.1608, 0.2157, 0.2353, 0.2039, 0.2471, 0.2275,\n",
              "           0.2275, 0.2275, 0.2039, 0.2314, 0.2353, 0.2118, 0.3255, 0.2314],\n",
              "          [0.2157, 0.1059, 0.1294, 0.1961, 0.2078, 0.2000, 0.2196, 0.2039,\n",
              "           0.2157, 0.2392, 0.1961, 0.1725, 0.2196, 0.1765, 0.2627, 0.1059],\n",
              "          [0.3098, 0.1961, 0.1922, 0.2039, 0.2275, 0.2667, 0.2745, 0.2667,\n",
              "           0.2824, 0.2627, 0.2039, 0.1804, 0.1843, 0.1451, 0.3137, 0.2314]]]),\n",
              " 6)"
            ]
          },
          "metadata": {},
          "execution_count": 54
        }
      ]
    },
    {
      "cell_type": "code",
      "source": [
        "trainset[0][0]"
      ],
      "metadata": {
        "colab": {
          "base_uri": "https://localhost:8080/"
        },
        "id": "iqFS30vgSa3w",
        "outputId": "e208e8e9-eecd-4463-9d27-5312f1d0c54b"
      },
      "execution_count": 55,
      "outputs": [
        {
          "output_type": "execute_result",
          "data": {
            "text/plain": [
              "tensor([[[0.1137, 0.2039, 0.4118, 0.5176, 0.5098, 0.4588, 0.4824, 0.4863,\n",
              "          0.4824, 0.4863, 0.5098, 0.5176, 0.5490, 0.5725, 0.5490, 0.5216],\n",
              "         [0.1333, 0.3020, 0.4510, 0.4627, 0.4510, 0.4431, 0.4667, 0.4902,\n",
              "          0.4667, 0.4745, 0.5137, 0.5176, 0.5020, 0.5176, 0.4824, 0.4275],\n",
              "         [0.2824, 0.4392, 0.4980, 0.4667, 0.4627, 0.4588, 0.4353, 0.4196,\n",
              "          0.4000, 0.4000, 0.4431, 0.4824, 0.5216, 0.4667, 0.3647, 0.2549],\n",
              "         [0.4392, 0.5020, 0.5137, 0.5020, 0.5059, 0.4549, 0.3137, 0.3059,\n",
              "          0.5294, 0.3647, 0.3176, 0.4431, 0.5333, 0.4824, 0.3961, 0.3647],\n",
              "         [0.5569, 0.5412, 0.4980, 0.5059, 0.5020, 0.3725, 0.2588, 0.3608,\n",
              "          0.6392, 0.5059, 0.3765, 0.3608, 0.4667, 0.5216, 0.4941, 0.5020],\n",
              "         [0.5882, 0.5686, 0.5137, 0.4784, 0.4784, 0.4471, 0.4980, 0.5804,\n",
              "          0.6078, 0.6118, 0.6549, 0.5333, 0.4824, 0.5255, 0.5294, 0.5216],\n",
              "         [0.5765, 0.5608, 0.4706, 0.3569, 0.4275, 0.6667, 0.7373, 0.8157,\n",
              "          0.8275, 0.8118, 0.7843, 0.6706, 0.5608, 0.5176, 0.5255, 0.5294],\n",
              "         [0.5804, 0.5686, 0.4157, 0.3451, 0.5412, 0.6980, 0.7255, 0.8902,\n",
              "          0.9529, 0.9137, 0.8549, 0.8706, 0.7294, 0.5216, 0.5098, 0.5020],\n",
              "         [0.5569, 0.5529, 0.4353, 0.4588, 0.7686, 0.7333, 0.8078, 0.8784,\n",
              "          0.8667, 0.8039, 0.7412, 0.8471, 0.7647, 0.5608, 0.5373, 0.5059],\n",
              "         [0.5255, 0.4980, 0.5098, 0.6824, 0.8784, 0.7333, 0.8039, 0.6588,\n",
              "          0.6235, 0.6078, 0.7176, 0.8667, 0.7412, 0.5098, 0.4745, 0.5059],\n",
              "         [0.5255, 0.5098, 0.5529, 0.7216, 0.7608, 0.6863, 0.7098, 0.5765,\n",
              "          0.5922, 0.5647, 0.5961, 0.6784, 0.6000, 0.4549, 0.4667, 0.5451],\n",
              "         [0.5412, 0.5490, 0.5765, 0.5882, 0.6745, 0.7490, 0.7529, 0.6078,\n",
              "          0.5686, 0.5843, 0.5529, 0.4706, 0.4549, 0.4667, 0.4588, 0.6392],\n",
              "         [0.5961, 0.5529, 0.5686, 0.6118, 0.6706, 0.6824, 0.7216, 0.6471,\n",
              "          0.5608, 0.5529, 0.5216, 0.4549, 0.4824, 0.4941, 0.5804, 0.6627],\n",
              "         [0.7451, 0.6000, 0.5294, 0.5686, 0.5765, 0.5373, 0.5843, 0.5412,\n",
              "          0.5412, 0.5686, 0.5529, 0.5804, 0.5686, 0.5490, 0.7020, 0.5216],\n",
              "         [0.7882, 0.7216, 0.6431, 0.5961, 0.5490, 0.5412, 0.5608, 0.5294,\n",
              "          0.5412, 0.5843, 0.5490, 0.5137, 0.5255, 0.4275, 0.5725, 0.3020],\n",
              "         [0.7059, 0.7373, 0.7804, 0.7412, 0.6353, 0.6000, 0.5882, 0.5765,\n",
              "          0.5765, 0.5686, 0.5608, 0.4745, 0.4549, 0.3412, 0.5961, 0.4627]],\n",
              "\n",
              "        [[0.1137, 0.1451, 0.2902, 0.3765, 0.3765, 0.3373, 0.3529, 0.3451,\n",
              "          0.3490, 0.3608, 0.3843, 0.3765, 0.4039, 0.4314, 0.4235, 0.4000],\n",
              "         [0.0863, 0.1804, 0.2902, 0.3098, 0.3059, 0.3059, 0.3255, 0.3333,\n",
              "          0.3137, 0.3255, 0.3686, 0.3686, 0.3490, 0.3608, 0.3373, 0.2902],\n",
              "         [0.1843, 0.2784, 0.3137, 0.3020, 0.3098, 0.3059, 0.2941, 0.2745,\n",
              "          0.2588, 0.2667, 0.3098, 0.3294, 0.3529, 0.3059, 0.2314, 0.1529],\n",
              "         [0.2980, 0.3373, 0.3333, 0.3216, 0.3373, 0.2980, 0.1922, 0.1725,\n",
              "          0.2980, 0.2157, 0.1961, 0.2667, 0.3451, 0.3255, 0.2627, 0.2510],\n",
              "         [0.4039, 0.3804, 0.3451, 0.3490, 0.3529, 0.2353, 0.1451, 0.1961,\n",
              "          0.3294, 0.2902, 0.2235, 0.2039, 0.3059, 0.3608, 0.3451, 0.3490],\n",
              "         [0.4510, 0.4196, 0.3725, 0.3490, 0.3412, 0.2627, 0.3137, 0.3882,\n",
              "          0.3882, 0.4078, 0.4784, 0.3647, 0.3098, 0.3608, 0.3647, 0.3529],\n",
              "         [0.4510, 0.4118, 0.3333, 0.2392, 0.2667, 0.4549, 0.5608, 0.6784,\n",
              "          0.6745, 0.6471, 0.6431, 0.5294, 0.3961, 0.3647, 0.3647, 0.3608],\n",
              "         [0.4314, 0.4000, 0.2824, 0.2157, 0.3765, 0.5373, 0.5490, 0.8000,\n",
              "          0.8980, 0.8314, 0.7647, 0.8078, 0.6275, 0.3961, 0.3804, 0.3529],\n",
              "         [0.3961, 0.3765, 0.2902, 0.3255, 0.6627, 0.5804, 0.6392, 0.7922,\n",
              "          0.8196, 0.7333, 0.6784, 0.7961, 0.6824, 0.4549, 0.4353, 0.4000],\n",
              "         [0.3647, 0.3490, 0.3608, 0.5843, 0.8157, 0.5843, 0.6824, 0.5529,\n",
              "          0.5059, 0.4863, 0.6314, 0.8039, 0.6235, 0.3451, 0.3294, 0.4039],\n",
              "         [0.3569, 0.3333, 0.4000, 0.6275, 0.6706, 0.5255, 0.5490, 0.4118,\n",
              "          0.4275, 0.4157, 0.4745, 0.5686, 0.4980, 0.3843, 0.3961, 0.4667],\n",
              "         [0.3608, 0.3529, 0.4000, 0.4275, 0.5176, 0.5922, 0.6078, 0.4510,\n",
              "          0.4000, 0.4157, 0.3961, 0.3333, 0.3765, 0.4980, 0.4902, 0.5922],\n",
              "         [0.4039, 0.3569, 0.3882, 0.4353, 0.4902, 0.5216, 0.5922, 0.5059,\n",
              "          0.3961, 0.3804, 0.3529, 0.3098, 0.3922, 0.4392, 0.5020, 0.5686],\n",
              "         [0.5529, 0.4196, 0.3569, 0.3922, 0.3961, 0.3608, 0.4157, 0.3765,\n",
              "          0.3686, 0.3882, 0.3765, 0.4078, 0.4196, 0.4118, 0.5686, 0.4078],\n",
              "         [0.6157, 0.5686, 0.4941, 0.4392, 0.3843, 0.3647, 0.3804, 0.3490,\n",
              "          0.3608, 0.4000, 0.3686, 0.3490, 0.3843, 0.3137, 0.4510, 0.2039],\n",
              "         [0.5451, 0.5804, 0.6431, 0.6157, 0.4980, 0.4353, 0.4196, 0.4039,\n",
              "          0.4118, 0.4000, 0.3686, 0.3333, 0.3176, 0.2314, 0.4667, 0.3373]],\n",
              "\n",
              "        [[0.1098, 0.0941, 0.1765, 0.2314, 0.2471, 0.2196, 0.2275, 0.2196,\n",
              "          0.2196, 0.2078, 0.2275, 0.2314, 0.2588, 0.3020, 0.3020, 0.2902],\n",
              "         [0.0471, 0.0824, 0.1490, 0.1647, 0.1647, 0.1686, 0.1686, 0.1804,\n",
              "          0.1765, 0.1804, 0.2078, 0.2118, 0.1882, 0.2078, 0.1961, 0.1725],\n",
              "         [0.0941, 0.1333, 0.1529, 0.1490, 0.1608, 0.1490, 0.1373, 0.1255,\n",
              "          0.1216, 0.1529, 0.1843, 0.2353, 0.2314, 0.1647, 0.1137, 0.0784],\n",
              "         [0.1608, 0.1725, 0.1686, 0.1569, 0.1804, 0.1490, 0.0863, 0.0824,\n",
              "          0.1647, 0.1294, 0.1216, 0.2314, 0.2471, 0.1804, 0.1373, 0.1490],\n",
              "         [0.2667, 0.2353, 0.1961, 0.1961, 0.2118, 0.1216, 0.0745, 0.1059,\n",
              "          0.1882, 0.2078, 0.1529, 0.1216, 0.1725, 0.2039, 0.1882, 0.1961],\n",
              "         [0.3216, 0.2706, 0.2431, 0.2235, 0.2196, 0.0980, 0.1569, 0.2353,\n",
              "          0.2392, 0.2706, 0.3451, 0.2118, 0.1529, 0.2078, 0.2078, 0.2000],\n",
              "         [0.3137, 0.2667, 0.2157, 0.1333, 0.1333, 0.2078, 0.3216, 0.5020,\n",
              "          0.4706, 0.4353, 0.4196, 0.3608, 0.2510, 0.2353, 0.2196, 0.2078],\n",
              "         [0.2745, 0.2353, 0.1608, 0.1294, 0.2549, 0.3922, 0.3725, 0.6745,\n",
              "          0.7529, 0.6549, 0.5922, 0.6824, 0.4745, 0.2353, 0.2157, 0.2000],\n",
              "         [0.2392, 0.2157, 0.1725, 0.2157, 0.5333, 0.4431, 0.4784, 0.6902,\n",
              "          0.7373, 0.6235, 0.5255, 0.6471, 0.4824, 0.1922, 0.1569, 0.1529],\n",
              "         [0.2235, 0.2000, 0.2157, 0.4824, 0.7373, 0.4353, 0.5333, 0.4235,\n",
              "          0.3529, 0.3137, 0.4549, 0.6784, 0.4510, 0.0980, 0.0863, 0.1451],\n",
              "         [0.2000, 0.1765, 0.2392, 0.5098, 0.5843, 0.3725, 0.3765, 0.2471,\n",
              "          0.2314, 0.2196, 0.3098, 0.4392, 0.3333, 0.1373, 0.1333, 0.2000],\n",
              "         [0.2039, 0.1843, 0.2392, 0.2706, 0.3843, 0.4510, 0.4549, 0.2863,\n",
              "          0.2157, 0.2314, 0.2196, 0.1843, 0.1569, 0.1059, 0.0824, 0.2667],\n",
              "         [0.1961, 0.1765, 0.2196, 0.2745, 0.3451, 0.3843, 0.4549, 0.3647,\n",
              "          0.2353, 0.2039, 0.1765, 0.1647, 0.1804, 0.1490, 0.2078, 0.3098],\n",
              "         [0.1922, 0.1176, 0.1608, 0.2157, 0.2353, 0.2039, 0.2471, 0.2275,\n",
              "          0.2275, 0.2275, 0.2039, 0.2314, 0.2353, 0.2118, 0.3255, 0.2314],\n",
              "         [0.2157, 0.1059, 0.1294, 0.1961, 0.2078, 0.2000, 0.2196, 0.2039,\n",
              "          0.2157, 0.2392, 0.1961, 0.1725, 0.2196, 0.1765, 0.2627, 0.1059],\n",
              "         [0.3098, 0.1961, 0.1922, 0.2039, 0.2275, 0.2667, 0.2745, 0.2667,\n",
              "          0.2824, 0.2627, 0.2039, 0.1804, 0.1843, 0.1451, 0.3137, 0.2314]]])"
            ]
          },
          "metadata": {},
          "execution_count": 55
        }
      ]
    },
    {
      "cell_type": "code",
      "source": [
        "trainset[0][1]"
      ],
      "metadata": {
        "colab": {
          "base_uri": "https://localhost:8080/"
        },
        "id": "0WaOxekPSa55",
        "outputId": "9c7b69fb-5126-4107-aab9-5eb8b31a5d52"
      },
      "execution_count": 56,
      "outputs": [
        {
          "output_type": "execute_result",
          "data": {
            "text/plain": [
              "6"
            ]
          },
          "metadata": {},
          "execution_count": 56
        }
      ]
    },
    {
      "cell_type": "markdown",
      "source": [
        "* DataLoader는 데이터를 미니 배치 형태로 만들어 준다.\n",
        "* 따라서 배치 데이터에 관한 배치 사이즈 및 셔플 여부 등을 선택할 수 있다.\n",
        "* batch_size = 50, shuffle=True은 무작위로 데이터를 섞어 한 번에 50개의 이미지를 묶은 배치로 제공하겠다는 의미이다."
      ],
      "metadata": {
        "id": "BVpXuBlxYXXg"
      }
    },
    {
      "cell_type": "code",
      "source": [
        "trainloader = DataLoader(trainset, batch_size=50, shuffle=True)\n",
        "testloader = DataLoader(testset, batch_size=50, shuffle=False)"
      ],
      "metadata": {
        "id": "WuJjefZTSa7-"
      },
      "execution_count": 57,
      "outputs": []
    },
    {
      "cell_type": "code",
      "source": [
        "len(trainloader) # CIFAR10 의 학습 이미지는 50000장이고, 배치 사이즈가 50장이므로 1000은 배치의 개수가 된다."
      ],
      "metadata": {
        "colab": {
          "base_uri": "https://localhost:8080/"
        },
        "id": "UtU0ibhgYJc3",
        "outputId": "2b3175c2-6bb7-482a-ea6e-e289e593edee"
      },
      "execution_count": 60,
      "outputs": [
        {
          "output_type": "execute_result",
          "data": {
            "text/plain": [
              "1000"
            ]
          },
          "metadata": {},
          "execution_count": 60
        }
      ]
    },
    {
      "cell_type": "code",
      "source": [
        "images, labels = next(iter(trainloader))\n",
        "print(images.size()) # 배치 사이즈는 (배치 크기)x(채널 수)x(너비)x(높이)를 의미한다. 즉 배치 하나에 이미지 50개가 잘 들어가 있음을 알 수 있다."
      ],
      "metadata": {
        "colab": {
          "base_uri": "https://localhost:8080/"
        },
        "id": "nuMMVl5eYJe3",
        "outputId": "a57ada0c-07e4-406d-e617-2ae7b15365c0"
      },
      "execution_count": 68,
      "outputs": [
        {
          "output_type": "stream",
          "name": "stdout",
          "text": [
            "torch.Size([50, 3, 16, 16])\n"
          ]
        }
      ]
    },
    {
      "cell_type": "code",
      "source": [
        "# image[1]의 크기는 (3,16,16)이다.\n",
        "# 이때 그림을 그려주기 위해서 채널 수가 가장 뒤로 가는 형태인 (16, 16, 3)을 만들어야 한다.\n",
        "# permute(1,2,0)은 기존 차원의 위치인 0,1,2를 1,2,0으로 바꾸는 함수이다.\n",
        "# 따라서 0번째의 크기가 3인 텐서를 마지막으로 보낸다.\n",
        "# 마지막으로 numpy()를 이용해 넘파이 배열로 변환한다.\n",
        "oneshot = images[1].permute(1,2,0).numpy()\n",
        "plt.figure(figsize=(2,2))\n",
        "plt.imshow(oneshot)\n",
        "plt.axis(\"off\")\n",
        "plt.show()"
      ],
      "metadata": {
        "colab": {
          "base_uri": "https://localhost:8080/",
          "height": 191
        },
        "id": "DY0G9ZgLYJgs",
        "outputId": "ffe7c431-5050-45dc-87e3-ed9e28753f21"
      },
      "execution_count": 69,
      "outputs": [
        {
          "output_type": "display_data",
          "data": {
            "text/plain": [
              "<Figure size 200x200 with 1 Axes>"
            ],
            "image/png": "[encoded data removed]"
          },
          "metadata": {}
        }
      ]
    },
    {
      "cell_type": "markdown",
      "source": [
        "### 정리되지 않은 커스텀 데이터 불러오기\n",
        "#### 커스텀 데이터 세트 예시\n",
        "* 현재 32x32 크기인 RGB 컬러 이미지 100장과 그에 대한 라벨이 되어 있고 넘파이 배열로 정리가 되어 있다고 가장하자."
      ],
      "metadata": {
        "id": "kRbfm9Abh-eS"
      }
    },
    {
      "cell_type": "code",
      "source": [
        "# 0 부터 255까지의 정수 중에서 임의로 선택하여 (100, 32, 32, 3)의 크기를 가지는 넘파이 배열을 생성하고, 255로 나누어 준다.\n",
        "# 이렇게 하면 픽셀 값의 범위가 0에서 1 사이가 된다.\n",
        "# 여기서 (100, 32, 32, 3)은 각각 이미지의 개수, 이미지의 너비, 이미지의 높이, 채널 수를 나타낸다.\n",
        "train_images = np.random.randint(256, size=(100,32,32,3))/255\n",
        "\n",
        "# 이 부분은 0 또는 1 중에서 임의로 선택하여 (100, 1)의 크기를 가지는 넘파이 배열을 생성한다.\n",
        "# 이 배열은 각 이미지의 레이블을 나타낸다.\n",
        "train_labels = np.random.randint(2, size=(100, 1))\n",
        "\n",
        "# 이 코드는 100개의 32x32 크기의 RGB 이미지 데이터와 이에 대응하는 레이블 데이터를 생성하는 역할을 한다."
      ],
      "metadata": {
        "id": "CqWFXpDKcwdO"
      },
      "execution_count": 83,
      "outputs": []
    },
    {
      "cell_type": "code",
      "source": [
        "class TensorData(Dataset):\n",
        "  def __init__(self, x_data, y_data):\n",
        "    self.x_data = torch.FloatTensor(x_data)\n",
        "    self.x_data = self.x_data.permute(0,3,1,2)\n",
        "    # 원래 이미지의 크기가 (100,32,32,3)이므로 permute(0,3,1,2) 함수를 통해 (100,3,32,32)으로 바꿔준다.\n",
        "    # (이미지수)x(너비)x(높이)x(채널수) -> (배치크기)x(채널수)x(너비)x(높이)\n",
        "    self.y_data = torch.LongTensor(y_data) # 이 부분은 입력받은 레이블 데이터(y_data)를 PyTorch의 LongTensor 타입으로 변환하는 작업을 의미한다.\n",
        "    self.len = self.y_data.shape[0] # 이 부분은 레이블 데이터 self.y_data의 첫번째 차원의 크기, 즉 데이터 개수를 self.len에 저장하는 작업을 의미한다.\n",
        "\n",
        "  def __getitem__(self, index): # 뽑아낼 데이터에 대해서 인덱스 처리를 하여 적어 준다.\n",
        "    return self.x_data[index], self.y_data[index]\n",
        "\n",
        "  def __len__(self):\n",
        "    return self.len"
      ],
      "metadata": {
        "id": "VtAx3jcocwfY"
      },
      "execution_count": 84,
      "outputs": []
    },
    {
      "cell_type": "code",
      "source": [
        "train_data = TensorData(train_images, train_labels)\n",
        "train_loader = DataLoader(train_data, batch_size=10, shuffle=True)"
      ],
      "metadata": {
        "id": "3kiaVEr2cwjS"
      },
      "execution_count": 85,
      "outputs": []
    },
    {
      "cell_type": "code",
      "source": [],
      "metadata": {
        "id": "yBNzkrGLnDkg"
      },
      "execution_count": null,
      "outputs": []
    },
    {
      "cell_type": "code",
      "source": [],
      "metadata": {
        "id": "LVb5o-V_nDmp"
      },
      "execution_count": null,
      "outputs": []
    },
    {
      "cell_type": "code",
      "source": [],
      "metadata": {
        "id": "9iuUDhnkcwmb"
      },
      "execution_count": null,
      "outputs": []
    }
  ]
}