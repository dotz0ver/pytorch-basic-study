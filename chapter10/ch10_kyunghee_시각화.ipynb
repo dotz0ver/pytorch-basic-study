{
 "cells": [
  {
   "cell_type": "markdown",
   "metadata": {},
   "source": [
    "# ch10 시각화"
   ]
  },
  {
   "cell_type": "markdown",
   "metadata": {},
   "source": [
    "## 10.1 설명 가능한 인공지능 (Explainable AI, XAI) "
   ]
  },
  {
   "cell_type": "markdown",
   "metadata": {},
   "source": [
    "### 10.1.1 Class Activation Map (CAM)\n",
    "- 이미지 분류 문제에서 이미지 내에서 어느 영역을 보고 클래스 분류를 결정했는지를 설명하는 시각화 방법\n",
    "- 합성곱 신경망의 마지막 층에 나온 피쳐맵과 분류기의 가중치를 이용해 영역을 찾아 내는 방식\n",
    "- Flatten을 해줄 때 객체 위치에 대한 정보가 소실되어 CAM을 사용하기 위해서는 합성곱 신경망의 마지막 층에서의 각각의 피쳐맵의 평균값을 사용하는 글로벌 평균 풀링 (Global Average Pooling, GAP)을 사용한다.\n",
    "\n",
    "![스크린샷 2024-02-01 오전 4.46.41.png](../img/스크린샷%202024-02-01%20오전%204.46.41.png)\n",
    "![스크린샷 2024-02-01 오전 4.48.49.png](../img/스크린샷%202024-02-01%20오전%204.48.49.png)"
   ]
  },
  {
   "cell_type": "code",
   "execution_count": null,
   "metadata": {},
   "outputs": [],
   "source": [
    "# CAM 구축하기\n",
    "activation = {}\n",
    "def get_activation(name): # 모델의 특정 레이어에서의 피쳐맵을 추출할 수 있도록 도와주는 역할\n",
    "    def hook(model, input, output):\n",
    "        activation[name] = output.detach()\n",
    "    return hook\n",
    "\n",
    "def cam(dataset, img_sample,img_size):\n",
    "    model.eval()\n",
    "    with torch.no_grad():\n",
    "        model.layer4[1].bn2.register_forward_hook(get_activation('final'))\n",
    "        data, label = dataset[img_sample]\n",
    "        data.unsqueeze_(0)\n",
    "        output = model(data.to(device))\n",
    "        _, prediction = torch.max(output,1)\n",
    "        act= activation['final'].squeeze()\n",
    "        w = model.fc.weight\n",
    "\n",
    "        for idx in range(act.size(0)):\n",
    "            if idx ==0:\n",
    "                tmp = act[idx]*w[prediction.item()][idx]\n",
    "            else:\n",
    "                tmp += act[idx]*w[prediction.item()][idx]\n",
    "        normalized_cam = tmp.cpu().numpy()\n",
    "        normalized_cam = (normalized_cam-np.min(normalized_cam))/(np.max(normalized_cam)-np.min(normalized_cam))\n",
    "        original_img = np.uint8((data[0][0])/2 + 0.5) * 255\n",
    "        cam_img = cv2.resize(np.uint8(normalized_cam*255),dsize=(img_size,img_size))\n",
    "    return cam_img, original_img, prediction, label"
   ]
  },
  {
   "cell_type": "code",
   "execution_count": null,
   "metadata": {},
   "outputs": [],
   "source": [
    "# CAM 결과 산출 함수 정의하기\n",
    "def plot_cam(dataset, img_size, size):\n",
    "    end = star +20\n",
    "    fig, axs = plt.subplots(2,(end=start+1)//2, figsize=(20,4))\n",
    "    fig.subplots_adjust(hspace=.01, wspace=.01)\n",
    "    axs = axs.eval()\n",
    "    cls = ['airplane','bird','car','cat','deer','dog','horse','monkey','ship','truck']\n",
    "    for i in range(start,end):\n",
    "        cam_img,original_img,prediction,label = cam(dataset,i,img_size)\n",
    "        if prediction == label :\n",
    "            color = 'white'\n",
    "        else:\n",
    "            color = 'red'\n",
    "        axs[i-start].imshow(original_img,smap='gray')\n",
    "        axs[i-start].imshow(cam_img, cmap='jet',alpha=.4)\n",
    "        axs[i-start].text(5,5,cls[prediction],bbox={'facecolor':color, 'pad':5})\n",
    "        axs[i-start].axis('off')\n",
    "    plt.show()"
   ]
  },
  {
   "cell_type": "code",
   "execution_count": null,
   "metadata": {},
   "outputs": [],
   "source": [
    "# CAM 결과 산출하기\n",
    "plot_cam(trainset,128,10)\n",
    "plot_cam(testset,128,10)"
   ]
  },
  {
   "cell_type": "markdown",
   "metadata": {},
   "source": [
    "## 10.2 차원 축소 기법"
   ]
  },
  {
   "cell_type": "markdown",
   "metadata": {},
   "source": [
    "### 10.2.1 t-distributed stochastic neighbor embedding (t-SNE)\n",
    "- 합성곱 신경망을 거쳐 나온 고차원의 피쳐맵을 분석하기 위해 사용되는 차원 축소 기법 중 하나"
   ]
  },
  {
   "cell_type": "code",
   "execution_count": null,
   "metadata": {},
   "outputs": [],
   "source": [
    "# 라이브러리\n",
    "from sklearn.manifold import TSNE"
   ]
  },
  {
   "cell_type": "code",
   "execution_count": null,
   "metadata": {},
   "outputs": [],
   "source": [
    "# t-SNE 정의하기\n",
    "tsne = TSNE(n_components=2, random_state=0)\n",
    "cluster = np.array(tsne.fit_transform(np.array(deep_features)))\n",
    "actual = np.array(actual)"
   ]
  },
  {
   "cell_type": "code",
   "execution_count": null,
   "metadata": {},
   "outputs": [],
   "source": [
    "# t-SNE 그래프 그리기\n",
    "plt.figure(figsize=(10,10))\n",
    "cifar = ['plane','car','bird','cat','deer','dog','horse','monkey','ship','truck']\n",
    "for i, label in zip(range(10), cifar):\n",
    "    idx = np.where(actual == i)\n",
    "    plt.scatter(cluster[idx,0],cluster[idx,1],marker='.',label=label)\n",
    "plt.legend()\n",
    "plt.show()"
   ]
  },
  {
   "cell_type": "markdown",
   "metadata": {},
   "source": [
    "### 10.2.2 주성분 분석(PCA)\n",
    "- 데이터의 고유값을 이용해 분석하기 때문에 클러스터링 및 데이터 분석에 활용도가 큼"
   ]
  },
  {
   "cell_type": "code",
   "execution_count": null,
   "metadata": {},
   "outputs": [],
   "source": [
    "# PCA 정의하기\n",
    "from sklearn.decomposition import PCA\n",
    "pca = PCA(n_components=2)\n",
    "cluster = np.array(pca.fit_transform(np.array(deep_features)))\n",
    "print(pca.explained_variance_ratio_)"
   ]
  },
  {
   "cell_type": "code",
   "execution_count": null,
   "metadata": {},
   "outputs": [],
   "source": [
    "# PCA 그래프 그리기\n",
    "plt.figure(figsize=(10,10))\n",
    "\n",
    "for i, label in zip(range(10), cifar):\n",
    "    idx = np.where(actual == i)\n",
    "    plt.scatter(cluster[idx,0],cluster[idx,1],marker='.',label=label)\n",
    "plt.legend()\n",
    "plt.show()"
   ]
  }
 ],
 "metadata": {
  "language_info": {
   "name": "python"
  }
 },
 "nbformat": 4,
 "nbformat_minor": 2
}
