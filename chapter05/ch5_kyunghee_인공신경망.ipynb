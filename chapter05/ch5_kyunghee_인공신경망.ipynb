{
 "cells": [
  {
   "cell_type": "markdown",
   "metadata": {},
   "source": [
    "# 5. 인공신경망"
   ]
  },
  {
   "cell_type": "markdown",
   "metadata": {},
   "source": [
    "### 5.1 다층 퍼셉트론"
   ]
  },
  {
   "cell_type": "markdown",
   "metadata": {},
   "source": [
    "#### 5.1.1 선형회귀"
   ]
  },
  {
   "cell_type": "code",
   "execution_count": 1,
   "metadata": {},
   "outputs": [],
   "source": [
    "import torch\n",
    "import torch.nn as nn\n",
    "import matplotlib.pyplot as plt"
   ]
  },
  {
   "cell_type": "code",
   "execution_count": 3,
   "metadata": {},
   "outputs": [],
   "source": [
    "x = torch.FloatTensor(range(5)).unsqueeze(1)\n",
    "y = 2*x + torch.rand(5,1)"
   ]
  },
  {
   "cell_type": "code",
   "execution_count": 6,
   "metadata": {},
   "outputs": [],
   "source": [
    "class LinearRegression(nn.Module):\n",
    "    def __init__(self):\n",
    "        super().__init__()\n",
    "        self.fc = nn.Linear(1,1,bias = True) # 선형 회귀식\n",
    "\n",
    "    def forward(self, x): # 실제 입력값이 들어와 연산이 진행 하는 순서와 방법을 정하는 곳\n",
    "        y = self.fc(x) # x값을 받아 y값을 반환\n",
    "\n",
    "        return y "
   ]
  },
  {
   "cell_type": "code",
   "execution_count": 7,
   "metadata": {},
   "outputs": [],
   "source": [
    "model = LinearRegression()\n",
    "learning_rate = 1e-3\n",
    "criterion = nn.MSELoss()\n",
    "optimizer = torch.optim.SGD(model.parameters(),lr=learning_rate)"
   ]
  },
  {
   "cell_type": "code",
   "execution_count": 8,
   "metadata": {},
   "outputs": [
    {
     "name": "stdout",
     "output_type": "stream",
     "text": [
      "Epoch 0 : 8.4336519241333\n",
      "Epoch 100 : 0.6475235223770142\n",
      "Epoch 200 : 0.11954130977392197\n",
      "Epoch 300 : 0.08041207492351532\n",
      "Epoch 400 : 0.07458341866731644\n",
      "Epoch 500 : 0.07135498523712158\n",
      "Epoch 600 : 0.06862087547779083\n",
      "Epoch 700 : 0.06620331108570099\n",
      "Epoch 800 : 0.06405848264694214\n",
      "Epoch 900 : 0.06215493753552437\n",
      "Epoch 1000 : 0.060465842485427856\n"
     ]
    }
   ],
   "source": [
    "loss_stack =[]\n",
    "for epoch in range(1001):\n",
    "\n",
    "    optimizer.zero_grad()\n",
    "\n",
    "    y_hat = model(x)\n",
    "    loss = criterion(y_hat,y)\n",
    "\n",
    "    loss.backward()\n",
    "    optimizer.step()\n",
    "    loss_stack.append(loss.item())\n",
    "\n",
    "    if epoch % 100 == 0:\n",
    "        print(f'Epoch {epoch} : {loss.item()}')"
   ]
  },
  {
   "cell_type": "code",
   "execution_count": 9,
   "metadata": {},
   "outputs": [
    {
     "data": {
      "image/png": "[encoded data removed]",
      "text/plain": [
       "<Figure size 1000x500 with 2 Axes>"
      ]
     },
     "metadata": {},
     "output_type": "display_data"
    }
   ],
   "source": [
    "with torch.no_grad(): # requires_grad를 비활성화\n",
    "    y_hat = model(x)\n",
    "\n",
    "\n",
    "plt.figure(figsize=(10,5))\n",
    "plt.subplot(121)\n",
    "plt.plot(loss_stack)\n",
    "plt.title(\"Loss\")\n",
    "plt.subplot(122)\n",
    "plt.plot(x,y,'.b')\n",
    "plt.plot(x,y_hat,'r-')\n",
    "plt.legend(['ground truth','prediction'])\n",
    "plt.title('Prediction')\n",
    "plt.show()"
   ]
  },
  {
   "cell_type": "markdown",
   "metadata": {},
   "source": [
    "### 5.2 활성화 함수\n",
    "\n",
    "- 비선형적인 층 사이의 관계를 표현\n",
    "- 이전 노드의 값과 가중치가 계산된 값을 활성화 함수에 넣어 계산한 뒤 다음 노드로 보냄"
   ]
  },
  {
   "cell_type": "code",
   "execution_count": null,
   "metadata": {},
   "outputs": [],
   "source": [
    "#### 시그모이드 함수\n",
    "# 0과 1사이로 변환\n",
    "# 이진 분류 문제에서 활용\n",
    "torch.sigmoid()\n",
    "nn.Sigmoid()\n",
    "\n",
    "\n",
    "#### tanh 함수\n",
    "# -1과 1 사이의 값을 취함\n",
    "# 시그모이드 함수보다 더 가파른 기울기를 가짐\n",
    "torch.tanh()\n",
    "nn.Tanh()\n",
    "\n",
    "\n",
    "#### ReU 함수\n",
    "# 계산이 쉽고 미분도 쉽게 풀 수 있음\n",
    "# 선형적 성질들을 보존하고 있어 최적화를 쉽게 할 수 있게 함\n",
    "torch.nn.functional.relu()\n",
    "nn.ReLU()\n",
    "\n",
    "\n",
    "#### Softmax 함수\n",
    "# 벡터 형태로 예측값이 나오는 다중 분류문제에서 사용\n",
    "torch.nn.functional.softmax() \n",
    "nn.Softmax()\n",
    "s"
   ]
  },
  {
   "cell_type": "markdown",
   "metadata": {},
   "source": [
    "### 5.3 손실 함수"
   ]
  },
  {
   "cell_type": "code",
   "execution_count": null,
   "metadata": {},
   "outputs": [],
   "source": [
    "#### MAE\n",
    "# 유사도, 거리 측정, 회귀 문제등에 많이 사용\n",
    "torch.nn.L1Loss\n",
    "\n",
    "#### MSE\n",
    "# 유사도, 거리 측정, 회귀 문제등에 많이 사용\n",
    "torch.nn.MSELoss\n",
    "\n",
    "#### Cross Entropy Loss\n",
    "# 다중 분류 문제에서 사용\n",
    "torch.nn.CrossEntropyLoss"
   ]
  },
  {
   "cell_type": "markdown",
   "metadata": {},
   "source": [
    "### 5.4 최적화 기법"
   ]
  },
  {
   "cell_type": "code",
   "execution_count": null,
   "metadata": {},
   "outputs": [],
   "source": [
    "#### 확률적 경사하강법 \n",
    "# 데이터를 나눠서 학습하는 방법\n",
    "# 미니 배치를 나눌 때 데이터를 무작위로 섞어서 나눔\n",
    "optimizer = torch.optim.SGD(model.parameters(),lr=0.01)\n",
    "\n",
    "#### momentum 방법\n",
    "# SGD 함수에 momentum 지수를 넣어준다.\n",
    "optimizer = torch.optim.SGD(model.parameters(), lr=0.01, momentum=0.9)\n",
    "\n",
    "#### Adam 방법\n",
    "optimizer = torch.optim.Adam(model.parameters(), lr= 0.01)"
   ]
  },
  {
   "cell_type": "markdown",
   "metadata": {},
   "source": [
    "#### 5.4.3 스케쥴링\n",
    "- 가변 학습률을 사용할 때 학습률이 어떻게 바뀌는지 규칙을 정해주는 것"
   ]
  },
  {
   "cell_type": "code",
   "execution_count": null,
   "metadata": {},
   "outputs": [],
   "source": [
    "optimizer = torch.optim.SGD(model.parameters(), lr=0.1, momentum=0.9)\n",
    "scheduler = torch.optim.lr_scheduler.StepLR(optimizer, step_size =30, gamma =0.1) # 30번 학습마다 0,1배씩 줄여주고 싶을 때\n",
    "\n",
    "## 중략 ##\n",
    "\n",
    "\n",
    "for epoch in range(400):\n",
    "    running_loss = 0.0\n",
    "    for data in trainloader:\n",
    "        inputs, values = data \n",
    "        optimizer.zero_grad()\n",
    "        outputs = model(inputs)\n",
    "        loss = criterion(outputs, values)\n",
    "        loss.backward()\n",
    "        optimizer.step()\n",
    "\n",
    "## 중략 ##\n",
    "\n",
    "    scheduler.step()"
   ]
  },
  {
   "cell_type": "markdown",
   "metadata": {},
   "source": [
    "#### 5.4.4 MADGRAD\n",
    "- 모먼텀과 가변식 방법을 병행하는 최신 최적화 기법"
   ]
  },
  {
   "cell_type": "code",
   "execution_count": null,
   "metadata": {},
   "outputs": [],
   "source": [
    "pip install madgrad # 설치\n",
    "\n",
    "import madgrad\n",
    "optimizer = madgrad.MADGRAD(model.parameters())"
   ]
  },
  {
   "cell_type": "markdown",
   "metadata": {},
   "source": [
    "### 5.5 교차 검증"
   ]
  },
  {
   "cell_type": "code",
   "execution_count": null,
   "metadata": {},
   "outputs": [],
   "source": [
    "# 교차검증을 이용한 학습 및 평가\n",
    "\n",
    "validation_loss = []\n",
    "for fold, (train_idx, val_idx) in enumerate(kfold.split(trainset)): # 나눠진 학습 데이터의 인덱스를 불러온다.\n",
    "\n",
    "    train_subsampler = torch.utils.data.SubsetRandomSapler(train_idx)\n",
    "    val_subsampler = torch.utils.data.SubsetRandomSampler(val_idx)\n",
    "    trainloader = torch.utils.data.DataLoader(trainset, batch_size = 32, sampler = train_subsampler)\n",
    "    valloader = torch.utils.data.DataLoader(trainset, batch_size =32, sampler = val_subsampler)\n",
    "\n",
    "    model = Regressor()\n",
    "    optimizer = torch.optim.Adam(model.parameters(), lr= 0.01, weight_decay = 1e-7)\n",
    "\n",
    "    for epoch in range(400):\n",
    "        for data in trainloader:\n",
    "            inputs, values = data\n",
    "            optimizer.zero_grad()\n",
    "\n",
    "            outputs = model(inputs)\n",
    "            loss = criterion(outputs, values)\n",
    "            loss.backward()\n",
    "            optimizer.step()\n",
    "\n",
    "    train_rmse = evaluation(trainloader)\n",
    "    val_rmse = evaluation(valloader)\n",
    "    print(\"k-fold\", fold, \"train loss: %.4f, validation loss: %.4f\" % (train_rmse, val_rmse))\n",
    "    validation_loss.append(val_rmse)\n",
    "\n"
   ]
  },
  {
   "cell_type": "markdown",
   "metadata": {},
   "source": [
    "### 5.6 모델 구조 및 가중치 확인"
   ]
  },
  {
   "cell_type": "markdown",
   "metadata": {},
   "source": [
    "#### 5.6.1 모델 구조"
   ]
  },
  {
   "cell_type": "code",
   "execution_count": null,
   "metadata": {},
   "outputs": [],
   "source": [
    "import torch\n",
    "from torchsummary import summary\n",
    "\n",
    "summary(model,(10,13))"
   ]
  },
  {
   "cell_type": "markdown",
   "metadata": {},
   "source": [
    "#### 5.6.2 모델 변수"
   ]
  },
  {
   "cell_type": "code",
   "execution_count": null,
   "metadata": {},
   "outputs": [],
   "source": [
    "for parameter in model.parameters():\n",
    "    print(parameter.size())\n",
    "\n",
    "for name, param in model.named_parameters():\n",
    "    print(name, param.size())"
   ]
  }
 ],
 "metadata": {
  "kernelspec": {
   "display_name": "base",
   "language": "python",
   "name": "python3"
  },
  "language_info": {
   "codemirror_mode": {
    "name": "ipython",
    "version": 3
   },
   "file_extension": ".py",
   "mimetype": "text/x-python",
   "name": "python",
   "nbconvert_exporter": "python",
   "pygments_lexer": "ipython3",
   "version": "3.11.5"
  }
 },
 "nbformat": 4,
 "nbformat_minor": 2
}
