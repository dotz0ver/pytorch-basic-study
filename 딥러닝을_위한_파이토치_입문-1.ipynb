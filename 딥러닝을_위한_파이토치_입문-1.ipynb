{
  "nbformat": 4,
  "nbformat_minor": 0,
  "metadata": {
    "colab": {
      "provenance": []
    },
    "kernelspec": {
      "name": "python3",
      "display_name": "Python 3"
    },
    "language_info": {
      "name": "python"
    }
  },
  "cells": [
    {
      "cell_type": "code",
      "source": [
        "import torch\n",
        "import numpy as np"
      ],
      "metadata": {
        "id": "a6YkiN_aP2VT"
      },
      "execution_count": null,
      "outputs": []
    },
    {
      "cell_type": "code",
      "source": [
        "x = torch.empty(5,4)\n",
        "print(x)"
      ],
      "metadata": {
        "colab": {
          "base_uri": "https://localhost:8080/"
        },
        "id": "THsJk3VcP6Y5",
        "outputId": "b9a5630f-3199-4db7-d5bf-56223194e081"
      },
      "execution_count": null,
      "outputs": [
        {
          "output_type": "stream",
          "name": "stdout",
          "text": [
            "tensor([[3.1027e-07, 4.5866e-41, 2.2561e-43, 0.0000e+00],\n",
            "        [1.5186e-34, 4.5867e-41, 7.0252e-01, 3.1325e-41],\n",
            "        [3.1027e-07, 4.5866e-41, 3.1028e-07, 4.5866e-41],\n",
            "        [3.1028e-07, 4.5866e-41, 3.1028e-07, 4.5866e-41],\n",
            "        [3.1028e-07, 4.5866e-41, 3.1028e-07, 4.5866e-41]])\n"
          ]
        }
      ]
    },
    {
      "cell_type": "code",
      "source": [
        "torch.ones(3,3)"
      ],
      "metadata": {
        "colab": {
          "base_uri": "https://localhost:8080/"
        },
        "id": "xRlTFI_HQHGD",
        "outputId": "dbdd36f9-257e-4ac8-a349-7a0fce0e0fee"
      },
      "execution_count": null,
      "outputs": [
        {
          "output_type": "execute_result",
          "data": {
            "text/plain": [
              "tensor([[1., 1., 1.],\n",
              "        [1., 1., 1.],\n",
              "        [1., 1., 1.]])"
            ]
          },
          "metadata": {},
          "execution_count": 3
        }
      ]
    },
    {
      "cell_type": "code",
      "source": [
        "torch.zeros(2)"
      ],
      "metadata": {
        "colab": {
          "base_uri": "https://localhost:8080/"
        },
        "id": "uaygTQMVQIur",
        "outputId": "f26b3b95-9ff4-4581-a1a9-e1ada3082e3f"
      },
      "execution_count": null,
      "outputs": [
        {
          "output_type": "execute_result",
          "data": {
            "text/plain": [
              "tensor([0., 0.])"
            ]
          },
          "metadata": {},
          "execution_count": 4
        }
      ]
    },
    {
      "cell_type": "code",
      "source": [
        "torch.rand(5,6)"
      ],
      "metadata": {
        "colab": {
          "base_uri": "https://localhost:8080/"
        },
        "id": "fNNMD0wLQLu9",
        "outputId": "3a764187-1482-4436-b9b4-00fa2c51010d"
      },
      "execution_count": null,
      "outputs": [
        {
          "output_type": "execute_result",
          "data": {
            "text/plain": [
              "tensor([[0.3997, 0.7457, 0.0073, 0.6702, 0.7802, 0.1476],\n",
              "        [0.9624, 0.9832, 0.9804, 0.4998, 0.4396, 0.5280],\n",
              "        [0.0756, 0.7510, 0.1395, 0.8442, 0.8172, 0.3141],\n",
              "        [0.6124, 0.6561, 0.9746, 0.6877, 0.8340, 0.7823],\n",
              "        [0.4609, 0.2943, 0.2471, 0.8599, 0.6863, 0.8361]])"
            ]
          },
          "metadata": {},
          "execution_count": 6
        }
      ]
    },
    {
      "cell_type": "code",
      "source": [
        "l = [13,4]\n",
        "r = np.array([4,56,7])"
      ],
      "metadata": {
        "id": "HFgZ_u2TQRDb"
      },
      "execution_count": null,
      "outputs": []
    },
    {
      "cell_type": "code",
      "source": [
        "torch.tensor([l])"
      ],
      "metadata": {
        "colab": {
          "base_uri": "https://localhost:8080/"
        },
        "id": "dWw9K2mZQXjx",
        "outputId": "39ea7ad8-e86a-4501-ea10-0c89aa8c02e5"
      },
      "execution_count": null,
      "outputs": [
        {
          "output_type": "execute_result",
          "data": {
            "text/plain": [
              "tensor([[13,  4]])"
            ]
          },
          "metadata": {},
          "execution_count": 8
        }
      ]
    },
    {
      "cell_type": "code",
      "source": [
        "torch.tensor(r)"
      ],
      "metadata": {
        "colab": {
          "base_uri": "https://localhost:8080/"
        },
        "id": "RE32stAsQZ7Z",
        "outputId": "0c060816-2a96-4b8d-e790-47ccc419b2b3"
      },
      "execution_count": null,
      "outputs": [
        {
          "output_type": "execute_result",
          "data": {
            "text/plain": [
              "tensor([ 4, 56,  7])"
            ]
          },
          "metadata": {},
          "execution_count": 9
        }
      ]
    },
    {
      "cell_type": "code",
      "source": [
        "x.size() # like shape"
      ],
      "metadata": {
        "colab": {
          "base_uri": "https://localhost:8080/"
        },
        "id": "zsJxJikIQflL",
        "outputId": "0f158948-4e1e-4fab-e306-3ccde163783f"
      },
      "execution_count": null,
      "outputs": [
        {
          "output_type": "execute_result",
          "data": {
            "text/plain": [
              "torch.Size([5, 4])"
            ]
          },
          "metadata": {},
          "execution_count": 10
        }
      ]
    },
    {
      "cell_type": "code",
      "source": [
        "type(x)"
      ],
      "metadata": {
        "colab": {
          "base_uri": "https://localhost:8080/"
        },
        "id": "fmj7iKy2Qmii",
        "outputId": "9791e4f4-398a-47c9-8eb7-94a6528e3513"
      },
      "execution_count": null,
      "outputs": [
        {
          "output_type": "execute_result",
          "data": {
            "text/plain": [
              "torch.Tensor"
            ]
          },
          "metadata": {},
          "execution_count": 11
        }
      ]
    },
    {
      "cell_type": "code",
      "source": [
        "x = torch.rand(2,2)\n",
        "y = torch.rand(2,2)"
      ],
      "metadata": {
        "id": "-vILd4WVQpz3"
      },
      "execution_count": null,
      "outputs": []
    },
    {
      "cell_type": "code",
      "source": [
        "x + y"
      ],
      "metadata": {
        "colab": {
          "base_uri": "https://localhost:8080/"
        },
        "id": "rfPlMmOsQ0Ee",
        "outputId": "ab83f0af-5f07-4b26-a182-6eda18eb40ac"
      },
      "execution_count": null,
      "outputs": [
        {
          "output_type": "execute_result",
          "data": {
            "text/plain": [
              "tensor([[1.5972, 1.1895],\n",
              "        [1.5316, 0.4132]])"
            ]
          },
          "metadata": {},
          "execution_count": 14
        }
      ]
    },
    {
      "cell_type": "code",
      "source": [
        "torch.add(x,y)"
      ],
      "metadata": {
        "colab": {
          "base_uri": "https://localhost:8080/"
        },
        "id": "bcFCAByIQwZl",
        "outputId": "521d0ef0-dfba-426d-a437-bd2a7c082478"
      },
      "execution_count": null,
      "outputs": [
        {
          "output_type": "execute_result",
          "data": {
            "text/plain": [
              "tensor([[1.5972, 1.1895],\n",
              "        [1.5316, 0.4132]])"
            ]
          },
          "metadata": {},
          "execution_count": 13
        }
      ]
    },
    {
      "cell_type": "code",
      "source": [
        "y.add(x)"
      ],
      "metadata": {
        "colab": {
          "base_uri": "https://localhost:8080/"
        },
        "id": "ohV5OJKSQ13w",
        "outputId": "228e0f8b-56ad-43bd-d1e3-0a52926ed63d"
      },
      "execution_count": null,
      "outputs": [
        {
          "output_type": "execute_result",
          "data": {
            "text/plain": [
              "tensor([[1.5972, 1.1895],\n",
              "        [1.5316, 0.4132]])"
            ]
          },
          "metadata": {},
          "execution_count": 15
        }
      ]
    },
    {
      "cell_type": "code",
      "source": [
        "y"
      ],
      "metadata": {
        "colab": {
          "base_uri": "https://localhost:8080/"
        },
        "id": "oatITRD_Q4Ks",
        "outputId": "511d2b8b-b536-4ecd-fd7f-ed9ffae06b5c"
      },
      "execution_count": null,
      "outputs": [
        {
          "output_type": "execute_result",
          "data": {
            "text/plain": [
              "tensor([[0.8983, 0.2173],\n",
              "        [0.5325, 0.0978]])"
            ]
          },
          "metadata": {},
          "execution_count": 16
        }
      ]
    },
    {
      "cell_type": "code",
      "source": [
        "y.add_(x) # '_'는 데이터 프레임에서 inplace같은 동작"
      ],
      "metadata": {
        "colab": {
          "base_uri": "https://localhost:8080/"
        },
        "id": "LuxtjoVNQ7el",
        "outputId": "edd29ecf-3945-4380-b358-f6d91601def9"
      },
      "execution_count": null,
      "outputs": [
        {
          "output_type": "execute_result",
          "data": {
            "text/plain": [
              "tensor([[1.5972, 1.1895],\n",
              "        [1.5316, 0.4132]])"
            ]
          },
          "metadata": {},
          "execution_count": 17
        }
      ]
    },
    {
      "cell_type": "code",
      "source": [
        "y[1,1]  # 1행 1열"
      ],
      "metadata": {
        "colab": {
          "base_uri": "https://localhost:8080/"
        },
        "id": "w4VBwF8-RMaM",
        "outputId": "8deb1ba4-27f9-4064-9782-3d03cfd42013"
      },
      "execution_count": null,
      "outputs": [
        {
          "output_type": "execute_result",
          "data": {
            "text/plain": [
              "tensor(0.4132)"
            ]
          },
          "metadata": {},
          "execution_count": 18
        }
      ]
    },
    {
      "cell_type": "code",
      "source": [
        "y[:,1] # 데이터 프레임 loc와 같다."
      ],
      "metadata": {
        "id": "XWGJMHF3RPtC"
      },
      "execution_count": null,
      "outputs": []
    },
    {
      "cell_type": "code",
      "source": [
        "x = torch.rand(8,8)\n",
        "x"
      ],
      "metadata": {
        "colab": {
          "base_uri": "https://localhost:8080/"
        },
        "id": "S0u5ezTERWpY",
        "outputId": "316e0d15-b797-4bd5-c02b-14a43e686120"
      },
      "execution_count": null,
      "outputs": [
        {
          "output_type": "execute_result",
          "data": {
            "text/plain": [
              "tensor([[0.8088, 0.4531, 0.7913, 0.7288, 0.8252, 0.1426, 0.8403, 0.1332],\n",
              "        [0.7954, 0.0308, 0.7579, 0.2061, 0.5624, 0.1923, 0.6397, 0.3946],\n",
              "        [0.4946, 0.5852, 0.1786, 0.7383, 0.7682, 0.5900, 0.9129, 0.6525],\n",
              "        [0.2508, 0.0738, 0.5557, 0.0697, 0.6662, 0.1971, 0.1671, 0.4120],\n",
              "        [0.1287, 0.6019, 0.8068, 0.4948, 0.8172, 0.5367, 0.7209, 0.1707],\n",
              "        [0.2872, 0.6233, 0.3328, 0.9043, 0.5240, 0.4703, 0.6219, 0.9184],\n",
              "        [0.8151, 0.2854, 0.1120, 0.3807, 0.5373, 0.1454, 0.5401, 0.4901],\n",
              "        [0.3223, 0.9708, 0.6168, 0.2794, 0.0996, 0.5005, 0.1197, 0.0048]])"
            ]
          },
          "metadata": {},
          "execution_count": 20
        }
      ]
    },
    {
      "cell_type": "code",
      "source": [
        "x.view(64) # view는 사이즈를 자유롭게 바꿀 수 있다.\n",
        "# 즉 x.view(64) 뜻은 64개 데이터를 잉렬로 나열하겠다 것이다."
      ],
      "metadata": {
        "colab": {
          "base_uri": "https://localhost:8080/"
        },
        "id": "-89odlGzRcdH",
        "outputId": "ed59c9e6-1bc5-4b53-8c30-6de011903c41"
      },
      "execution_count": null,
      "outputs": [
        {
          "output_type": "execute_result",
          "data": {
            "text/plain": [
              "tensor([0.8088, 0.4531, 0.7913, 0.7288, 0.8252, 0.1426, 0.8403, 0.1332, 0.7954,\n",
              "        0.0308, 0.7579, 0.2061, 0.5624, 0.1923, 0.6397, 0.3946, 0.4946, 0.5852,\n",
              "        0.1786, 0.7383, 0.7682, 0.5900, 0.9129, 0.6525, 0.2508, 0.0738, 0.5557,\n",
              "        0.0697, 0.6662, 0.1971, 0.1671, 0.4120, 0.1287, 0.6019, 0.8068, 0.4948,\n",
              "        0.8172, 0.5367, 0.7209, 0.1707, 0.2872, 0.6233, 0.3328, 0.9043, 0.5240,\n",
              "        0.4703, 0.6219, 0.9184, 0.8151, 0.2854, 0.1120, 0.3807, 0.5373, 0.1454,\n",
              "        0.5401, 0.4901, 0.3223, 0.9708, 0.6168, 0.2794, 0.0996, 0.5005, 0.1197,\n",
              "        0.0048])"
            ]
          },
          "metadata": {},
          "execution_count": 21
        }
      ]
    },
    {
      "cell_type": "code",
      "source": [
        "x.view(4,16) # 4 x 16으로 바꾸기"
      ],
      "metadata": {
        "colab": {
          "base_uri": "https://localhost:8080/"
        },
        "id": "KBkGPEyfRxmd",
        "outputId": "d994c671-4f89-47d4-ab91-1b970f8058ff"
      },
      "execution_count": null,
      "outputs": [
        {
          "output_type": "execute_result",
          "data": {
            "text/plain": [
              "tensor([[0.8088, 0.4531, 0.7913, 0.7288, 0.8252, 0.1426, 0.8403, 0.1332, 0.7954,\n",
              "         0.0308, 0.7579, 0.2061, 0.5624, 0.1923, 0.6397, 0.3946],\n",
              "        [0.4946, 0.5852, 0.1786, 0.7383, 0.7682, 0.5900, 0.9129, 0.6525, 0.2508,\n",
              "         0.0738, 0.5557, 0.0697, 0.6662, 0.1971, 0.1671, 0.4120],\n",
              "        [0.1287, 0.6019, 0.8068, 0.4948, 0.8172, 0.5367, 0.7209, 0.1707, 0.2872,\n",
              "         0.6233, 0.3328, 0.9043, 0.5240, 0.4703, 0.6219, 0.9184],\n",
              "        [0.8151, 0.2854, 0.1120, 0.3807, 0.5373, 0.1454, 0.5401, 0.4901, 0.3223,\n",
              "         0.9708, 0.6168, 0.2794, 0.0996, 0.5005, 0.1197, 0.0048]])"
            ]
          },
          "metadata": {},
          "execution_count": 22
        }
      ]
    },
    {
      "cell_type": "code",
      "source": [
        "x.view(-1,16) # -1을 입력하면 16이 열이 생기고 행은 자동으로 계산해준다.\n",
        "# -1은 자주 사용되는 표"
      ],
      "metadata": {
        "colab": {
          "base_uri": "https://localhost:8080/"
        },
        "id": "TzddxPArR1a4",
        "outputId": "72607b32-6e2a-4017-ee86-ed4c2f2cc4d5"
      },
      "execution_count": null,
      "outputs": [
        {
          "output_type": "execute_result",
          "data": {
            "text/plain": [
              "tensor([[0.8088, 0.4531, 0.7913, 0.7288, 0.8252, 0.1426, 0.8403, 0.1332, 0.7954,\n",
              "         0.0308, 0.7579, 0.2061, 0.5624, 0.1923, 0.6397, 0.3946],\n",
              "        [0.4946, 0.5852, 0.1786, 0.7383, 0.7682, 0.5900, 0.9129, 0.6525, 0.2508,\n",
              "         0.0738, 0.5557, 0.0697, 0.6662, 0.1971, 0.1671, 0.4120],\n",
              "        [0.1287, 0.6019, 0.8068, 0.4948, 0.8172, 0.5367, 0.7209, 0.1707, 0.2872,\n",
              "         0.6233, 0.3328, 0.9043, 0.5240, 0.4703, 0.6219, 0.9184],\n",
              "        [0.8151, 0.2854, 0.1120, 0.3807, 0.5373, 0.1454, 0.5401, 0.4901, 0.3223,\n",
              "         0.9708, 0.6168, 0.2794, 0.0996, 0.5005, 0.1197, 0.0048]])"
            ]
          },
          "metadata": {},
          "execution_count": 23
        }
      ]
    },
    {
      "cell_type": "code",
      "source": [
        "x.view(-1,4,4) # 'x'를 3차원으로 바꾸고 두 번째와 세 번째 차원은 4로 설정 첫 번째 차원을 알아서 조절"
      ],
      "metadata": {
        "colab": {
          "base_uri": "https://localhost:8080/"
        },
        "id": "I5C5n6yrSUgS",
        "outputId": "b646092f-84c3-408a-e0a8-3dff1e59d12d"
      },
      "execution_count": null,
      "outputs": [
        {
          "output_type": "execute_result",
          "data": {
            "text/plain": [
              "tensor([[[0.8088, 0.4531, 0.7913, 0.7288],\n",
              "         [0.8252, 0.1426, 0.8403, 0.1332],\n",
              "         [0.7954, 0.0308, 0.7579, 0.2061],\n",
              "         [0.5624, 0.1923, 0.6397, 0.3946]],\n",
              "\n",
              "        [[0.4946, 0.5852, 0.1786, 0.7383],\n",
              "         [0.7682, 0.5900, 0.9129, 0.6525],\n",
              "         [0.2508, 0.0738, 0.5557, 0.0697],\n",
              "         [0.6662, 0.1971, 0.1671, 0.4120]],\n",
              "\n",
              "        [[0.1287, 0.6019, 0.8068, 0.4948],\n",
              "         [0.8172, 0.5367, 0.7209, 0.1707],\n",
              "         [0.2872, 0.6233, 0.3328, 0.9043],\n",
              "         [0.5240, 0.4703, 0.6219, 0.9184]],\n",
              "\n",
              "        [[0.8151, 0.2854, 0.1120, 0.3807],\n",
              "         [0.5373, 0.1454, 0.5401, 0.4901],\n",
              "         [0.3223, 0.9708, 0.6168, 0.2794],\n",
              "         [0.0996, 0.5005, 0.1197, 0.0048]]])"
            ]
          },
          "metadata": {},
          "execution_count": 24
        }
      ]
    },
    {
      "cell_type": "code",
      "source": [
        "# 넘파이로 바꾸기\n",
        "y = x.numpy()\n",
        "y\n",
        "# y = x.numpy(y) 이거는 올바르지 않는 구문"
      ],
      "metadata": {
        "colab": {
          "base_uri": "https://localhost:8080/"
        },
        "id": "EV4ehyumSn5k",
        "outputId": "9be7f378-8790-4a47-ee34-ba01c393959b"
      },
      "execution_count": null,
      "outputs": [
        {
          "output_type": "execute_result",
          "data": {
            "text/plain": [
              "array([[0.8087874 , 0.45306486, 0.7912577 , 0.72880036, 0.8251714 ,\n",
              "        0.14263695, 0.8402554 , 0.13317561],\n",
              "       [0.7953549 , 0.03081024, 0.75786704, 0.20611131, 0.5623673 ,\n",
              "        0.19233114, 0.63966477, 0.39461952],\n",
              "       [0.49460864, 0.5851526 , 0.17858404, 0.73825336, 0.7682374 ,\n",
              "        0.58998823, 0.91293395, 0.6524959 ],\n",
              "       [0.2507785 , 0.073807  , 0.5557464 , 0.06968302, 0.6662326 ,\n",
              "        0.19712144, 0.1670953 , 0.4119947 ],\n",
              "       [0.12870121, 0.60188687, 0.8067667 , 0.49484473, 0.817176  ,\n",
              "        0.53668576, 0.72094506, 0.17073596],\n",
              "       [0.2872088 , 0.6232834 , 0.33280075, 0.90425676, 0.52401465,\n",
              "        0.47026926, 0.6219109 , 0.9183525 ],\n",
              "       [0.81514955, 0.28538018, 0.1119889 , 0.3806777 , 0.53725326,\n",
              "        0.14535826, 0.5400593 , 0.4900648 ],\n",
              "       [0.32234442, 0.97075135, 0.61682194, 0.27939975, 0.09956944,\n",
              "        0.5005489 , 0.11972976, 0.00481111]], dtype=float32)"
            ]
          },
          "metadata": {},
          "execution_count": 26
        }
      ]
    },
    {
      "cell_type": "code",
      "source": [
        "type(y)"
      ],
      "metadata": {
        "colab": {
          "base_uri": "https://localhost:8080/"
        },
        "id": "OB0oR91mTCgZ",
        "outputId": "a35ebd98-8eb1-4733-aa81-8219543a784c"
      },
      "execution_count": null,
      "outputs": [
        {
          "output_type": "execute_result",
          "data": {
            "text/plain": [
              "numpy.ndarray"
            ]
          },
          "metadata": {},
          "execution_count": 27
        }
      ]
    },
    {
      "cell_type": "code",
      "source": [
        "x = torch.ones([1])\n",
        "x"
      ],
      "metadata": {
        "colab": {
          "base_uri": "https://localhost:8080/"
        },
        "id": "sqHssCyYTFvl",
        "outputId": "e96f2f9e-02c6-420a-fbf8-d6b08fc08a84"
      },
      "execution_count": null,
      "outputs": [
        {
          "output_type": "execute_result",
          "data": {
            "text/plain": [
              "tensor([1.])"
            ]
          },
          "metadata": {},
          "execution_count": 29
        }
      ]
    },
    {
      "cell_type": "code",
      "source": [
        "x.item()\n",
        "# tensor 안에 있는 값을 추출 -> 원소가 한 개일 때만 사용 가능이다.\n",
        "# 예를 들어 선형 회귀 모델에서 최소제곱법에서 loss 값을 직접 뽑고 싶을 때 사용"
      ],
      "metadata": {
        "colab": {
          "base_uri": "https://localhost:8080/"
        },
        "id": "CDH_Pp8RTJik",
        "outputId": "b4ad0158-880b-43c7-bf56-50c0bf86bed8"
      },
      "execution_count": null,
      "outputs": [
        {
          "output_type": "execute_result",
          "data": {
            "text/plain": [
              "1.0"
            ]
          },
          "metadata": {},
          "execution_count": 30
        }
      ]
    }
  ]
}