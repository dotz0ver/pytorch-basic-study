{
  "nbformat": 4,
  "nbformat_minor": 0,
  "metadata": {
    "colab": {
      "provenance": [],
      "gpuType": "T4",
      "toc_visible": true
    },
    "kernelspec": {
      "name": "python3",
      "display_name": "Python 3"
    },
    "language_info": {
      "name": "python"
    },
    "accelerator": "GPU"
  },
  "cells": [
    {
      "cell_type": "code",
      "execution_count": 2,
      "metadata": {
        "colab": {
          "base_uri": "https://localhost:8080/"
        },
        "id": "CJxujBDl6wms",
        "outputId": "94d88f57-e6c3-4e19-d416-eb4f2ae38081"
      },
      "outputs": [
        {
          "output_type": "stream",
          "name": "stdout",
          "text": [
            "Mounted at /content/gdrive\n"
          ]
        }
      ],
      "source": [
        "from google.colab import drive\n",
        "drive.mount('/content/gdrive')"
      ]
    },
    {
      "cell_type": "code",
      "source": [
        "cd/content/gdrive/MyDrive"
      ],
      "metadata": {
        "colab": {
          "base_uri": "https://localhost:8080/"
        },
        "id": "v9MoTrKc7eou",
        "outputId": "64da7cc8-7037-4b00-d560-732cab288d74"
      },
      "execution_count": 3,
      "outputs": [
        {
          "output_type": "stream",
          "name": "stdout",
          "text": [
            "/content/gdrive/MyDrive\n"
          ]
        }
      ]
    },
    {
      "cell_type": "markdown",
      "source": [
        "# 라이브러리(library)\n",
        "\n",
        "\n",
        "*   라이브러리는 사용자가 쉽게 코딩을 할 수 있도록 미리 만들어 놓은 도구이다.\n",
        "*   따라서 코드에서 필요한 라이브러리가 있다면 불러와서 바로 사용할 수 있기 때문에 코딩에 필수적인 요소이다.\n",
        "\n",
        "\n"
      ],
      "metadata": {
        "id": "idRp4MUvVMbh"
      }
    },
    {
      "cell_type": "code",
      "source": [
        "import numpy\n",
        "arr = numpy.array([1, 2, 3])\n",
        "numpy.sum(arr)"
      ],
      "metadata": {
        "id": "_nWD6pXs8DXC",
        "colab": {
          "base_uri": "https://localhost:8080/"
        },
        "outputId": "4d050e96-5d04-40d9-8061-cbcd5b416f71"
      },
      "execution_count": 4,
      "outputs": [
        {
          "output_type": "execute_result",
          "data": {
            "text/plain": [
              "6"
            ]
          },
          "metadata": {},
          "execution_count": 4
        }
      ]
    },
    {
      "cell_type": "code",
      "source": [
        "from numpy import array, mean\n",
        "arr = array([1, 2, 3])\n",
        "mean(arr)"
      ],
      "metadata": {
        "colab": {
          "base_uri": "https://localhost:8080/"
        },
        "id": "DqWctxEWUid-",
        "outputId": "a0031192-bc39-428e-d6dc-91eca36525df"
      },
      "execution_count": 5,
      "outputs": [
        {
          "output_type": "execute_result",
          "data": {
            "text/plain": [
              "2.0"
            ]
          },
          "metadata": {},
          "execution_count": 5
        }
      ]
    },
    {
      "cell_type": "markdown",
      "source": [
        "# 리스트 (list)\n",
        "\n"
      ],
      "metadata": {
        "id": "QN8BPcKYXCFs"
      }
    },
    {
      "cell_type": "code",
      "source": [
        "list1 = [1, 2, 3, 4]\n",
        "\n",
        "print(list1[0], list1[-1], list1[-2], list1[1:3])"
      ],
      "metadata": {
        "colab": {
          "base_uri": "https://localhost:8080/"
        },
        "id": "XCemIXgnUif-",
        "outputId": "64cb7f76-5ba1-431d-f1ae-fcac01a163a8"
      },
      "execution_count": 7,
      "outputs": [
        {
          "output_type": "stream",
          "name": "stdout",
          "text": [
            "1 4 3 [2, 3]\n"
          ]
        }
      ]
    },
    {
      "cell_type": "code",
      "source": [
        "list2 = ['math', 'english']\n",
        "list2[0]"
      ],
      "metadata": {
        "colab": {
          "base_uri": "https://localhost:8080/",
          "height": 35
        },
        "id": "0egLOAfwUiiG",
        "outputId": "b159b111-66ea-4f57-9691-b8e44ed36b57"
      },
      "execution_count": 8,
      "outputs": [
        {
          "output_type": "execute_result",
          "data": {
            "text/plain": [
              "'math'"
            ],
            "application/vnd.google.colaboratory.intrinsic+json": {
              "type": "string"
            }
          },
          "metadata": {},
          "execution_count": 8
        }
      ]
    },
    {
      "cell_type": "code",
      "source": [
        "list2[0][1]"
      ],
      "metadata": {
        "colab": {
          "base_uri": "https://localhost:8080/",
          "height": 35
        },
        "id": "xZ1izx5CUikJ",
        "outputId": "5116015f-5bd5-4953-f954-204c9b576ff1"
      },
      "execution_count": 25,
      "outputs": [
        {
          "output_type": "execute_result",
          "data": {
            "text/plain": [
              "'a'"
            ],
            "application/vnd.google.colaboratory.intrinsic+json": {
              "type": "string"
            }
          },
          "metadata": {},
          "execution_count": 25
        }
      ]
    },
    {
      "cell_type": "code",
      "source": [
        "list3 = [1, '2', [1, 2, 3]]\n",
        "list3"
      ],
      "metadata": {
        "colab": {
          "base_uri": "https://localhost:8080/"
        },
        "id": "gdQheEkbUimS",
        "outputId": "444bd11b-ae76-4919-ed1a-61dfe46553cc"
      },
      "execution_count": 26,
      "outputs": [
        {
          "output_type": "execute_result",
          "data": {
            "text/plain": [
              "[1, '2', [1, 2, 3]]"
            ]
          },
          "metadata": {},
          "execution_count": 26
        }
      ]
    },
    {
      "cell_type": "code",
      "source": [
        "list4 = [1, 2, 3]\n",
        "list5 = [4, 5]\n",
        "list4 + list5 # [1, 2, 3, 4, 5]"
      ],
      "metadata": {
        "colab": {
          "base_uri": "https://localhost:8080/"
        },
        "id": "8qjOw5B6Xqxz",
        "outputId": "6cacaced-00f0-4989-d28d-24acd1aaeceb"
      },
      "execution_count": 27,
      "outputs": [
        {
          "output_type": "execute_result",
          "data": {
            "text/plain": [
              "[1, 2, 3, 4, 5]"
            ]
          },
          "metadata": {},
          "execution_count": 27
        }
      ]
    },
    {
      "cell_type": "code",
      "source": [
        "2*list4  # [1, 2, 3, 1, 2, 3]"
      ],
      "metadata": {
        "colab": {
          "base_uri": "https://localhost:8080/"
        },
        "id": "6nUGPuQgXq0F",
        "outputId": "b90a6daf-d00b-4d90-cd92-c49afa56ddfb"
      },
      "execution_count": 28,
      "outputs": [
        {
          "output_type": "execute_result",
          "data": {
            "text/plain": [
              "[1, 2, 3, 1, 2, 3]"
            ]
          },
          "metadata": {},
          "execution_count": 28
        }
      ]
    },
    {
      "cell_type": "code",
      "source": [
        "list4.append(list5)\n",
        "list4"
      ],
      "metadata": {
        "colab": {
          "base_uri": "https://localhost:8080/"
        },
        "id": "QUwGlyUfYTaA",
        "outputId": "04aa7ea5-82a9-4507-a60f-c73b6cf5e8f1"
      },
      "execution_count": 29,
      "outputs": [
        {
          "output_type": "execute_result",
          "data": {
            "text/plain": [
              "[1, 2, 3, [4, 5]]"
            ]
          },
          "metadata": {},
          "execution_count": 29
        }
      ]
    },
    {
      "cell_type": "code",
      "source": [
        "list4[-2:]"
      ],
      "metadata": {
        "colab": {
          "base_uri": "https://localhost:8080/"
        },
        "id": "3mI0A3bRYKWI",
        "outputId": "81355d09-a5b7-45e5-b64f-08061f203846"
      },
      "execution_count": 30,
      "outputs": [
        {
          "output_type": "execute_result",
          "data": {
            "text/plain": [
              "[3, [4, 5]]"
            ]
          },
          "metadata": {},
          "execution_count": 30
        }
      ]
    },
    {
      "cell_type": "code",
      "source": [
        "list4"
      ],
      "metadata": {
        "colab": {
          "base_uri": "https://localhost:8080/"
        },
        "id": "kSmJPRhtYKaU",
        "outputId": "a392ccc9-0f87-45dd-b4be-2f345f2ce5b2"
      },
      "execution_count": 31,
      "outputs": [
        {
          "output_type": "execute_result",
          "data": {
            "text/plain": [
              "[1, 2, 3, [4, 5]]"
            ]
          },
          "metadata": {},
          "execution_count": 31
        }
      ]
    },
    {
      "cell_type": "code",
      "source": [
        "a = [1, 2]\n",
        "b = [0, 5]\n",
        "c = [a, b]\n",
        "c"
      ],
      "metadata": {
        "colab": {
          "base_uri": "https://localhost:8080/"
        },
        "id": "ucZaFQF-ZeoX",
        "outputId": "09f23717-f743-4ecd-d056-0d3874a08add"
      },
      "execution_count": 32,
      "outputs": [
        {
          "output_type": "execute_result",
          "data": {
            "text/plain": [
              "[[1, 2], [0, 5]]"
            ]
          },
          "metadata": {},
          "execution_count": 32
        }
      ]
    },
    {
      "cell_type": "code",
      "source": [
        "c[0][1]"
      ],
      "metadata": {
        "colab": {
          "base_uri": "https://localhost:8080/"
        },
        "id": "lR3NvfEOXq2c",
        "outputId": "1e237052-be5d-496b-b908-ec4fd7c34a61"
      },
      "execution_count": 33,
      "outputs": [
        {
          "output_type": "execute_result",
          "data": {
            "text/plain": [
              "2"
            ]
          },
          "metadata": {},
          "execution_count": 33
        }
      ]
    },
    {
      "cell_type": "code",
      "source": [
        "c[0][1] = 10\n",
        "c"
      ],
      "metadata": {
        "colab": {
          "base_uri": "https://localhost:8080/"
        },
        "id": "qQMy7cwEZYp3",
        "outputId": "1f7a46c7-27c7-4b51-8107-adb4569d5269"
      },
      "execution_count": 34,
      "outputs": [
        {
          "output_type": "execute_result",
          "data": {
            "text/plain": [
              "[[1, 10], [0, 5]]"
            ]
          },
          "metadata": {},
          "execution_count": 34
        }
      ]
    },
    {
      "cell_type": "code",
      "source": [
        "# range(n) : 0부터 정수 n-1까지 나열된 리스트이다.\n",
        "# range(10) = [0, 1, 2, 3, 4, 5, 6, 7, 8, 9]\n",
        "a = range(10)\n",
        "a"
      ],
      "metadata": {
        "colab": {
          "base_uri": "https://localhost:8080/"
        },
        "id": "rLa5CNMeZYsO",
        "outputId": "ba1a86ba-177f-4949-c75a-17f4a122258b"
      },
      "execution_count": 36,
      "outputs": [
        {
          "output_type": "execute_result",
          "data": {
            "text/plain": [
              "range(0, 10)"
            ]
          },
          "metadata": {},
          "execution_count": 36
        }
      ]
    },
    {
      "cell_type": "code",
      "source": [
        "sum(a)"
      ],
      "metadata": {
        "colab": {
          "base_uri": "https://localhost:8080/"
        },
        "id": "7D6qjgZNZYuu",
        "outputId": "2f5a0dc7-fcb4-4340-e62a-d02b7107d867"
      },
      "execution_count": 37,
      "outputs": [
        {
          "output_type": "execute_result",
          "data": {
            "text/plain": [
              "45"
            ]
          },
          "metadata": {},
          "execution_count": 37
        }
      ]
    },
    {
      "cell_type": "code",
      "source": [
        "b = [2, 10, 0, -2]\n",
        "sorted(b) # 오름차순 작은 숫자부터 성분을 나열한다."
      ],
      "metadata": {
        "colab": {
          "base_uri": "https://localhost:8080/"
        },
        "id": "1htwGNLDZYxR",
        "outputId": "a8f9e36c-af6b-47fb-b540-51c8b679e486"
      },
      "execution_count": 39,
      "outputs": [
        {
          "output_type": "execute_result",
          "data": {
            "text/plain": [
              "[-2, 0, 2, 10]"
            ]
          },
          "metadata": {},
          "execution_count": 39
        }
      ]
    },
    {
      "cell_type": "code",
      "source": [
        "b.index(0) # 0이라는 성분의 위치(인덱스)를 알려준다."
      ],
      "metadata": {
        "colab": {
          "base_uri": "https://localhost:8080/"
        },
        "id": "5lJu5i1mbM14",
        "outputId": "92aac652-1782-43b6-c7ba-029111052b1c"
      },
      "execution_count": 41,
      "outputs": [
        {
          "output_type": "execute_result",
          "data": {
            "text/plain": [
              "2"
            ]
          },
          "metadata": {},
          "execution_count": 41
        }
      ]
    },
    {
      "cell_type": "code",
      "source": [
        "len(b) # 리스트의 길이(성분의 개수)를 의미한다."
      ],
      "metadata": {
        "colab": {
          "base_uri": "https://localhost:8080/"
        },
        "id": "Y99d1OrqbM-b",
        "outputId": "e9574504-56b8-42d0-a6cf-d56a110149c4"
      },
      "execution_count": 43,
      "outputs": [
        {
          "output_type": "execute_result",
          "data": {
            "text/plain": [
              "4"
            ]
          },
          "metadata": {},
          "execution_count": 43
        }
      ]
    },
    {
      "cell_type": "markdown",
      "source": [
        "# 튜플(tuple)\n",
        "\n",
        "* 리스트와 가장 큰 차이점은 한 번 정의된 튜플은 수정이 불가능하다."
      ],
      "metadata": {
        "id": "Vnwv9jt4caON"
      }
    },
    {
      "cell_type": "code",
      "source": [
        "a = (1, 2)\n",
        "a[0] = 4"
      ],
      "metadata": {
        "colab": {
          "base_uri": "https://localhost:8080/",
          "height": 202
        },
        "id": "31rbLKDjbNBD",
        "outputId": "fe36a5ff-9057-45b9-96a4-ed2f374d7b84"
      },
      "execution_count": 45,
      "outputs": [
        {
          "output_type": "error",
          "ename": "TypeError",
          "evalue": "'tuple' object does not support item assignment",
          "traceback": [
            "\u001b[0;31m---------------------------------------------------------------------------\u001b[0m",
            "\u001b[0;31mTypeError\u001b[0m                                 Traceback (most recent call last)",
            "\u001b[0;32m<ipython-input-45-c230dbafb025>\u001b[0m in \u001b[0;36m<cell line: 2>\u001b[0;34m()\u001b[0m\n\u001b[1;32m      1\u001b[0m \u001b[0ma\u001b[0m \u001b[0;34m=\u001b[0m \u001b[0;34m(\u001b[0m\u001b[0;36m1\u001b[0m\u001b[0;34m,\u001b[0m \u001b[0;36m2\u001b[0m\u001b[0;34m)\u001b[0m\u001b[0;34m\u001b[0m\u001b[0;34m\u001b[0m\u001b[0m\n\u001b[0;32m----> 2\u001b[0;31m \u001b[0ma\u001b[0m\u001b[0;34m[\u001b[0m\u001b[0;36m0\u001b[0m\u001b[0;34m]\u001b[0m \u001b[0;34m=\u001b[0m \u001b[0;36m4\u001b[0m\u001b[0;34m\u001b[0m\u001b[0;34m\u001b[0m\u001b[0m\n\u001b[0m",
            "\u001b[0;31mTypeError\u001b[0m: 'tuple' object does not support item assignment"
          ]
        }
      ]
    },
    {
      "cell_type": "code",
      "source": [
        "a = (1, 2)\n",
        "b = (0, (1, 4))\n",
        "a + b"
      ],
      "metadata": {
        "colab": {
          "base_uri": "https://localhost:8080/"
        },
        "id": "7-s4hRWLbNDI",
        "outputId": "6a854332-f568-426c-ce90-58cdf6dec87d"
      },
      "execution_count": 46,
      "outputs": [
        {
          "output_type": "execute_result",
          "data": {
            "text/plain": [
              "(1, 2, 0, (1, 4))"
            ]
          },
          "metadata": {},
          "execution_count": 46
        }
      ]
    },
    {
      "cell_type": "markdown",
      "source": [
        "# 딕셔너리 (dict)\n",
        "\n",
        "* 키(Key)와 값(Value)으로 대응되어 데이터가 정리된 모임이다.\n",
        "* 각 키에 콜론 :으로 표현하여 값을 할당하며 키를 통해 원하는 데이터를 바로 불어올 수 있다."
      ],
      "metadata": {
        "id": "hyJN_urtdR67"
      }
    },
    {
      "cell_type": "code",
      "source": [
        "a = {\"class\":['deep learning', 'machine learning'], \"num_students\":[40,20]}"
      ],
      "metadata": {
        "id": "XybOX4MWdEPe"
      },
      "execution_count": 47,
      "outputs": []
    },
    {
      "cell_type": "code",
      "source": [
        "a[\"class\"]"
      ],
      "metadata": {
        "colab": {
          "base_uri": "https://localhost:8080/"
        },
        "id": "dVv9UOwddET1",
        "outputId": "f1822e5c-d8ff-40d9-ea63-130ed37ac82f"
      },
      "execution_count": 48,
      "outputs": [
        {
          "output_type": "execute_result",
          "data": {
            "text/plain": [
              "['deep learning', 'machine learning']"
            ]
          },
          "metadata": {},
          "execution_count": 48
        }
      ]
    },
    {
      "cell_type": "code",
      "source": [
        "# 새로운 키를 생성하고 싶을 때는 딕셔너리에 다음과 같이 새로운 키를 적고 값을 대입한다.\n",
        "a['grade'] = ['A', 'B', 'C']\n",
        "a"
      ],
      "metadata": {
        "colab": {
          "base_uri": "https://localhost:8080/"
        },
        "id": "9iMGCbXfetWW",
        "outputId": "a1202313-8e38-46b8-a1b0-fbe5a2592b90"
      },
      "execution_count": 50,
      "outputs": [
        {
          "output_type": "execute_result",
          "data": {
            "text/plain": [
              "{'class': ['deep learning', 'machine learning'],\n",
              " 'num_students': [40, 20],\n",
              " 'grade': ['A', 'B', 'C']}"
            ]
          },
          "metadata": {},
          "execution_count": 50
        }
      ]
    },
    {
      "cell_type": "code",
      "source": [
        "a.keys()"
      ],
      "metadata": {
        "colab": {
          "base_uri": "https://localhost:8080/"
        },
        "id": "V9mllZGkbNGp",
        "outputId": "f45c51e5-dd9d-40e4-84b6-e141d7c8b18a"
      },
      "execution_count": 51,
      "outputs": [
        {
          "output_type": "execute_result",
          "data": {
            "text/plain": [
              "dict_keys(['class', 'num_students', 'grade'])"
            ]
          },
          "metadata": {},
          "execution_count": 51
        }
      ]
    },
    {
      "cell_type": "code",
      "source": [
        "list(a.keys())"
      ],
      "metadata": {
        "colab": {
          "base_uri": "https://localhost:8080/"
        },
        "id": "C4_DVcDVfzJP",
        "outputId": "574305a6-225e-4ae5-f4e0-b2583cb40d3f"
      },
      "execution_count": 52,
      "outputs": [
        {
          "output_type": "execute_result",
          "data": {
            "text/plain": [
              "['class', 'num_students', 'grade']"
            ]
          },
          "metadata": {},
          "execution_count": 52
        }
      ]
    },
    {
      "cell_type": "code",
      "source": [
        "a.values()"
      ],
      "metadata": {
        "colab": {
          "base_uri": "https://localhost:8080/"
        },
        "id": "xoKUZZLcfzNb",
        "outputId": "a7a797ac-2a5f-46a1-f4bf-2af0a2f834a9"
      },
      "execution_count": 53,
      "outputs": [
        {
          "output_type": "execute_result",
          "data": {
            "text/plain": [
              "dict_values([['deep learning', 'machine learning'], [40, 20], ['A', 'B', 'C']])"
            ]
          },
          "metadata": {},
          "execution_count": 53
        }
      ]
    },
    {
      "cell_type": "code",
      "source": [
        "# 딕셔너리의 데이터를 각 키와 값을 튜플로 묶어 dict_items 형태로 출력한다.\n",
        "a.items()"
      ],
      "metadata": {
        "colab": {
          "base_uri": "https://localhost:8080/"
        },
        "id": "YoDfbJPHfzQT",
        "outputId": "d1bbf910-04ee-46fe-f2f8-e73ef997e29d"
      },
      "execution_count": 55,
      "outputs": [
        {
          "output_type": "execute_result",
          "data": {
            "text/plain": [
              "dict_items([('class', ['deep learning', 'machine learning']), ('num_students', [40, 20]), ('grade', ['A', 'B', 'C'])])"
            ]
          },
          "metadata": {},
          "execution_count": 55
        }
      ]
    },
    {
      "cell_type": "markdown",
      "source": [
        "# 넘파이(Numpy)\n",
        "\n",
        "* 행렬 연산이 가능한 배열 형태로 데이터를 만들어 사용해야 한다.\n",
        "* 이를 위해 행렬 연산 및 관련 함수들을 제공하는 넘파이Numpy 라이브러리를 사용할 수 있다."
      ],
      "metadata": {
        "id": "6Hu2IgMOhMzo"
      }
    },
    {
      "cell_type": "code",
      "source": [
        "import numpy as np"
      ],
      "metadata": {
        "id": "_gQye0aLgEqv"
      },
      "execution_count": 58,
      "outputs": []
    },
    {
      "cell_type": "code",
      "source": [
        "a = np.array([1, 5, 0, -1])\n",
        "b = np.ones((2, 2, 2)) # 모든 성분이 실수형 1이고 크기가 2x2x2인 3차원 배열이다.\n",
        "c = np.zeros((2, 3))\n",
        "d = np.arange(10)\n",
        "e = np.linspace(0, 10, 5) # 0과 10을 배열의 양 끝 성분으로 취하고 배열의 크기가 5가 되게 하는 등차수열 성분을 나열한 1차원 배열이다.\n",
        "f = np.random.randint(2, 10, 5) # 2 이상 10 미만의 정수 중 중복을 허용하여 5개를 뽑아 만든 1차원 배열이다.\n",
        "print(\"a: \", a)\n",
        "print(\"b: \", b)\n",
        "print(\"c: \", c)\n",
        "print(\"d: \", d)\n",
        "print(\"e: \", e)\n",
        "print(\"f: \", f)"
      ],
      "metadata": {
        "colab": {
          "base_uri": "https://localhost:8080/"
        },
        "id": "72XusVmIgEs4",
        "outputId": "9d0fbf30-0990-4d98-d0d1-014b4d32f5dd"
      },
      "execution_count": 61,
      "outputs": [
        {
          "output_type": "stream",
          "name": "stdout",
          "text": [
            "a:  [ 1  5  0 -1]\n",
            "b:  [[[1. 1.]\n",
            "  [1. 1.]]\n",
            "\n",
            " [[1. 1.]\n",
            "  [1. 1.]]]\n",
            "c:  [[0. 0. 0.]\n",
            " [0. 0. 0.]]\n",
            "d:  [0 1 2 3 4 5 6 7 8 9]\n",
            "e:  [ 0.   2.5  5.   7.5 10. ]\n",
            "f:  [2 4 8 5 5]\n"
          ]
        }
      ]
    },
    {
      "cell_type": "code",
      "source": [
        "c.shape # 배열의 크기"
      ],
      "metadata": {
        "colab": {
          "base_uri": "https://localhost:8080/"
        },
        "id": "S7QTtvd7ioD_",
        "outputId": "a1e07073-d332-4b30-f24e-0fefcee864c1"
      },
      "execution_count": 62,
      "outputs": [
        {
          "output_type": "execute_result",
          "data": {
            "text/plain": [
              "(2, 3)"
            ]
          },
          "metadata": {},
          "execution_count": 62
        }
      ]
    },
    {
      "cell_type": "code",
      "source": [
        "len(c) # 배열의 차원 중 첫 번째 크기를 나타낸다."
      ],
      "metadata": {
        "colab": {
          "base_uri": "https://localhost:8080/"
        },
        "id": "n41gA8EjioGE",
        "outputId": "34f78513-55b3-4c0f-9493-1955726053a8"
      },
      "execution_count": 63,
      "outputs": [
        {
          "output_type": "execute_result",
          "data": {
            "text/plain": [
              "2"
            ]
          },
          "metadata": {},
          "execution_count": 63
        }
      ]
    },
    {
      "cell_type": "code",
      "source": [
        "c.reshape(6) # 크기가 6인 1차원 배열이다."
      ],
      "metadata": {
        "colab": {
          "base_uri": "https://localhost:8080/"
        },
        "id": "GHPicbHIioIR",
        "outputId": "c9fcafd2-94eb-48bc-a450-b6293abe44df"
      },
      "execution_count": 65,
      "outputs": [
        {
          "output_type": "execute_result",
          "data": {
            "text/plain": [
              "array([0., 0., 0., 0., 0., 0.])"
            ]
          },
          "metadata": {},
          "execution_count": 65
        }
      ]
    },
    {
      "cell_type": "code",
      "source": [
        "c.reshape(1, 6) # 크기가 1x6인 2차원 배열이다."
      ],
      "metadata": {
        "colab": {
          "base_uri": "https://localhost:8080/"
        },
        "id": "LoaGfdUgioKG",
        "outputId": "b6d29b7d-76a1-4a5e-ef4d-5168dc105516"
      },
      "execution_count": 67,
      "outputs": [
        {
          "output_type": "execute_result",
          "data": {
            "text/plain": [
              "array([[0., 0., 0., 0., 0., 0.]])"
            ]
          },
          "metadata": {},
          "execution_count": 67
        }
      ]
    },
    {
      "cell_type": "code",
      "source": [
        "# 정수형으로 변환할 수 있다.\n",
        "c.astype('int')"
      ],
      "metadata": {
        "colab": {
          "base_uri": "https://localhost:8080/"
        },
        "id": "eIH2Q0KSldRt",
        "outputId": "9b5a2100-4903-403d-ac45-37ba38fe4287"
      },
      "execution_count": 70,
      "outputs": [
        {
          "output_type": "execute_result",
          "data": {
            "text/plain": [
              "array([[0, 0, 0],\n",
              "       [0, 0, 0]])"
            ]
          },
          "metadata": {},
          "execution_count": 70
        }
      ]
    },
    {
      "cell_type": "code",
      "source": [
        "d.shape"
      ],
      "metadata": {
        "colab": {
          "base_uri": "https://localhost:8080/"
        },
        "id": "r6kEhFpKldTv",
        "outputId": "ba73095b-8f97-4e72-89e6-806575e39432"
      },
      "execution_count": 71,
      "outputs": [
        {
          "output_type": "execute_result",
          "data": {
            "text/plain": [
              "(10,)"
            ]
          },
          "metadata": {},
          "execution_count": 71
        }
      ]
    },
    {
      "cell_type": "code",
      "source": [
        "d1 = d.reshape(2,5)\n",
        "d1"
      ],
      "metadata": {
        "colab": {
          "base_uri": "https://localhost:8080/"
        },
        "id": "sUNuzXNIldVl",
        "outputId": "171716e4-216f-4752-e2d1-dd4251d44adf"
      },
      "execution_count": 72,
      "outputs": [
        {
          "output_type": "execute_result",
          "data": {
            "text/plain": [
              "array([[0, 1, 2, 3, 4],\n",
              "       [5, 6, 7, 8, 9]])"
            ]
          },
          "metadata": {},
          "execution_count": 72
        }
      ]
    },
    {
      "cell_type": "code",
      "source": [
        "d1[1]"
      ],
      "metadata": {
        "colab": {
          "base_uri": "https://localhost:8080/"
        },
        "id": "WFAdgDTRldXo",
        "outputId": "9b88961f-f218-40fe-b78d-14519cb04c5a"
      },
      "execution_count": 73,
      "outputs": [
        {
          "output_type": "execute_result",
          "data": {
            "text/plain": [
              "array([5, 6, 7, 8, 9])"
            ]
          },
          "metadata": {},
          "execution_count": 73
        }
      ]
    },
    {
      "cell_type": "code",
      "source": [
        "d1[0][2]"
      ],
      "metadata": {
        "colab": {
          "base_uri": "https://localhost:8080/"
        },
        "id": "iooleCg9ldZv",
        "outputId": "1f0509e4-ff5f-4a9b-9273-d1e5f875cf8f"
      },
      "execution_count": 74,
      "outputs": [
        {
          "output_type": "execute_result",
          "data": {
            "text/plain": [
              "2"
            ]
          },
          "metadata": {},
          "execution_count": 74
        }
      ]
    },
    {
      "cell_type": "code",
      "source": [
        "# 인덱스의 -1은 마지막을 나타낸다.\n",
        "d1[-1][3]"
      ],
      "metadata": {
        "colab": {
          "base_uri": "https://localhost:8080/"
        },
        "id": "UmhYyizGnGlD",
        "outputId": "553d928c-d1f6-4d1e-fc73-c90858a4e541"
      },
      "execution_count": 75,
      "outputs": [
        {
          "output_type": "execute_result",
          "data": {
            "text/plain": [
              "8"
            ]
          },
          "metadata": {},
          "execution_count": 75
        }
      ]
    },
    {
      "cell_type": "code",
      "source": [
        "# :2는 0,1번째를 나타낸다.\n",
        "d1[0,:2]"
      ],
      "metadata": {
        "colab": {
          "base_uri": "https://localhost:8080/"
        },
        "id": "KpnwXXLqnGnY",
        "outputId": "a10133c4-5035-48ba-c545-21f668d83933"
      },
      "execution_count": 76,
      "outputs": [
        {
          "output_type": "execute_result",
          "data": {
            "text/plain": [
              "array([0, 1])"
            ]
          },
          "metadata": {},
          "execution_count": 76
        }
      ]
    },
    {
      "cell_type": "markdown",
      "source": [
        "# 클래스\n",
        "\n",
        "\n",
        "*   어떤 하나의 기능을 구현하는데 여러 개의 함수가 필요할 때가 있다.\n",
        "*   이럴 경우 데이터와 세부적인 기능을 수행하는 함수들을 묶어서 구현할 수 있는데, 이때 기본적으로 사용되는 것이 클래스이다.\n",
        "\n"
      ],
      "metadata": {
        "id": "EEhZqqNHopIp"
      }
    },
    {
      "cell_type": "code",
      "source": [
        "class DataPreprocessing:\n",
        "  def __init__(self, data, target):\n",
        "    self.data = data\n",
        "    self.target = target\n",
        "    self.num_instances = self.data.shape[0]\n",
        "    self.num_features = self.data.shape[1]\n",
        "  def minmax(self):\n",
        "    for i in range(self.num_features):\n",
        "      col = self.data[:,i]\n",
        "      self.data[:,i] = (self.data[:,i]-np.min(col))/(np.max(col)-np.min(col))\n",
        "    return self\n",
        "  def normalize(self):\n",
        "    for i in range(self.num_features):\n",
        "      col = self.data[:,i]\n",
        "      mu, sigma = np.mean(col), np.std(col)\n",
        "      self.data[:,i] = (self.data[:,i]-mu)/sigma\n",
        "    return self\n",
        "  def scaler(self, scaling=None):\n",
        "    if scaling == 'minmax':\n",
        "      self.minmax()\n",
        "    elif scaling == 'standard':\n",
        "      self.normalize()\n",
        "    else:\n",
        "      pass\n",
        "    return self.data"
      ],
      "metadata": {
        "id": "BQnjrtKtnGpV"
      },
      "execution_count": 78,
      "outputs": []
    },
    {
      "cell_type": "code",
      "source": [
        "data = np.random.normal(0, 10, (5, 5))\n",
        "target = np.random.normal(0, 1, 5)\n",
        "print(data)"
      ],
      "metadata": {
        "colab": {
          "base_uri": "https://localhost:8080/"
        },
        "id": "iN1sA1VRnGrH",
        "outputId": "09f7fbc8-03cb-4ccd-bc0f-c4049bf858dd"
      },
      "execution_count": 79,
      "outputs": [
        {
          "output_type": "stream",
          "name": "stdout",
          "text": [
            "[[ -3.79333094  18.72212919 -12.28274109   8.28457976   2.57465682]\n",
            " [ -4.79809851  -6.4575386    4.63786938  10.79814778  20.50771373]\n",
            " [-19.69811141   1.18126779  10.33027993  17.64365744  -5.05770811]\n",
            " [ -4.52687703 -10.4105445   14.7229974    2.49145447  11.81070544]\n",
            " [  2.75011302   1.40995675  13.50068193   9.07771702 -13.1703726 ]]\n"
          ]
        }
      ]
    },
    {
      "cell_type": "code",
      "source": [
        "data_processor = DataPreprocessing(data, target)"
      ],
      "metadata": {
        "id": "bZmQxoeInGs0"
      },
      "execution_count": 80,
      "outputs": []
    },
    {
      "cell_type": "code",
      "source": [
        "data = data_processor.scaler('minmax')\n",
        "print(data)"
      ],
      "metadata": {
        "colab": {
          "base_uri": "https://localhost:8080/"
        },
        "id": "GtlRzjiEnGut",
        "outputId": "32ebeef3-c673-4213-80f9-cc0c02d70762"
      },
      "execution_count": 81,
      "outputs": [
        {
          "output_type": "stream",
          "name": "stdout",
          "text": [
            "[[0.70850951 1.         0.         0.38232891 0.46751556]\n",
            " [0.66375018 0.13568977 0.62655611 0.54821687 1.        ]\n",
            " [0.         0.3978973  0.83734133 1.         0.24088852]\n",
            " [0.67583227 0.         1.         0.         0.74176062]\n",
            " [1.         0.40574722 0.95473868 0.4346736  0.        ]]\n"
          ]
        }
      ]
    },
    {
      "cell_type": "markdown",
      "source": [
        "# 그래프 그리기\n",
        "\n",
        "* Matplotlib은 다양한 기능을 제공한다."
      ],
      "metadata": {
        "id": "bQj5niMYrWjv"
      }
    },
    {
      "cell_type": "code",
      "source": [
        "from matplotlib import pyplot as plt"
      ],
      "metadata": {
        "id": "tqVadCYWrErR"
      },
      "execution_count": 82,
      "outputs": []
    },
    {
      "cell_type": "code",
      "source": [
        "epoch = np.arange(1, 100)\n",
        "train_loss = 1.5/(epoch)\n",
        "val_loss = .3+1/(epoch)"
      ],
      "metadata": {
        "id": "OPQX14PprEtY"
      },
      "execution_count": 83,
      "outputs": []
    },
    {
      "cell_type": "code",
      "source": [
        "plt.figure(figsize=(10,5))\n",
        "plt.plot(train_loss, 'r-*')\n",
        "plt.plot(val_loss,'b-*')\n",
        "plt.legend(['train','validation'])\n",
        "plt.title(\"MNIST\")\n",
        "plt.xlabel(\"epoch\")\n",
        "plt.ylabel(\"loss\")\n",
        "plt.show()"
      ],
      "metadata": {
        "colab": {
          "base_uri": "https://localhost:8080/",
          "height": 487
        },
        "id": "vJDuMHN9rEvW",
        "outputId": "0a213aba-90a3-4355-b73d-fca2056481b6"
      },
      "execution_count": 84,
      "outputs": [
        {
          "output_type": "display_data",
          "data": {
            "text/plain": [
              "<Figure size 1000x500 with 1 Axes>"
            ],
            "image/png": "[encoded data removed]"
          },
          "metadata": {}
        }
      ]
    },
    {
      "cell_type": "code",
      "source": [],
      "metadata": {
        "id": "gHA_GcJ3rExa"
      },
      "execution_count": null,
      "outputs": []
    },
    {
      "cell_type": "code",
      "source": [],
      "metadata": {
        "id": "3y3W7csMrEzf"
      },
      "execution_count": null,
      "outputs": []
    }
  ]
}