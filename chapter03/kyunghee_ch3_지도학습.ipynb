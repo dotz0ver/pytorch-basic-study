{
 "cells": [
  {
   "cell_type": "markdown",
   "metadata": {},
   "source": [
    "# chpater 3 지도학습"
   ]
  },
  {
   "cell_type": "markdown",
   "metadata": {},
   "source": [
    "### 기본적인 지도학습 과정 \n",
    "\n",
    "- 우리의 목적은 예측을 잘 하는 좋은 모델을 만드는 것\n",
    "- 따라서 학습을 통해 적절한 모델의 가중치와 편향을 찾아야 함\n",
    "- 예측값이 얼마나 정확한지를 판단하기 위해 손실함수(loss function)도입\n",
    "- 다음 학습 시 더 적은 손실 함숫값을 얻기 위해 이전 가중치와 편향을 좀 더 적절한 가중치와 편향으로 최적화(optimization)함\n",
    "- 미분 계산으로 구성된 역전파(backpropagation)을 통해 손실 함수의 최소 지점을 찾음"
   ]
  },
  {
   "cell_type": "code",
   "execution_count": null,
   "metadata": {},
   "outputs": [],
   "source": [
    "# 데이터 정의\n",
    "train_data = ...\n",
    "train_loader = ...\n",
    "\n",
    "# 반복 학습\n",
    "for epoch in range(num_epochs): # 전체 데이터에 대한 반복학습\n",
    "    for inputs, labels in train_loader:\n",
    "        ...중략...\n",
    "        optimizer.zero_grad() # 최적화 초기화\n",
    "        outputs = model(inputs) # 예측값 산출\n",
    "        loss = criterion(outputs, labels) # 손실함수 계산\n",
    "        loss.backward() # 손실 함수 기준으로 역전파 설정\n",
    "        optimizer.step() # 모델 가중치 업데이트\n",
    "\n",
    "\n",
    "    ... 중략 ... "
   ]
  },
  {
   "cell_type": "markdown",
   "metadata": {},
   "source": [
    "### 데이터 세트 분할\n",
    "\n",
    "- 학습 데이터 : 학습에 사용되는 데이터\n",
    "- 평가 데이터 : 평가에 사용되는 데이터\n",
    "- 검증 데이터: 평가 데이터 외 새로운 데이터에 대해 예측을 잘못할 수 있기 때문에 둔다."
   ]
  },
  {
   "cell_type": "code",
   "execution_count": 5,
   "metadata": {},
   "outputs": [],
   "source": [
    "# 무작위로 섞어서 데이터 분할\n",
    "\n",
    "import numpy as np\n",
    "from sklearn.model_selection import train_test_split\n",
    "\n",
    "X, y = np.arange(1000).reshape((100,10)), np.arange(100)\n",
    "X_train, X_test, y_train, y_test = train_test_split(X, y, test_size=0.3, random_state = 0)"
   ]
  },
  {
   "cell_type": "code",
   "execution_count": null,
   "metadata": {},
   "outputs": [],
   "source": []
  }
 ],
 "metadata": {
  "kernelspec": {
   "display_name": "base",
   "language": "python",
   "name": "python3"
  },
  "language_info": {
   "codemirror_mode": {
    "name": "ipython",
    "version": 3
   },
   "file_extension": ".py",
   "mimetype": "text/x-python",
   "name": "python",
   "nbconvert_exporter": "python",
   "pygments_lexer": "ipython3",
   "version": "3.11.5"
  }
 },
 "nbformat": 4,
 "nbformat_minor": 2
}
